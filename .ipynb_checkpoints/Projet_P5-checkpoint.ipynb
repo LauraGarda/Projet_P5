{
 "cells": [
  {
   "cell_type": "markdown",
   "metadata": {},
   "source": [
    "# Enoncé du problème\n",
    "\n",
    "L'objectif de ce projet est d'estimer la longueur de câble sous-marin nécessaire pour relier deux côtes $A$ et $B$  en utilisant des simulations conditionnelles.\n",
    "\n",
    "\n",
    "Le câble reposera sur le fond marin dont la profondeur est inconnue.\n",
    "Le segment $[AB]$ est discrétisé par une séquence de (N+1) points. On pose $x_0=A$ et pour $i=1,\\dots,N$, $$x_i=x_0+i\\Delta$$ où $$\\Delta = \\frac{AB}{N}$$ de telle sorte que $x_N=B$.\n",
    "On note $z(x)$ la profondeur du fond marin au point $x$ de telle sorte qu'on pourra estimer la longueur totale de câble nécessaire par la somme des longueurs sur les segments de la discrétisation :\n",
    "\n",
    "$$l=\\sum_{i=1}^N\\sqrt{\\Delta^2+(z(x_i)-z(x_{i-1}))^2}.$$\n",
    "\n",
    "Enfin, notons que l'on dispose d'un ensemble de $n$ observations de la profondeur que l'on supposera situées sur des points de discrétisation $z(x_{j_1}),\\dots,z(x_{j_n})$.\n",
    "\n",
    "\n",
    "On adopte un modèle probabiliste pour la profondeur. On suppose que le vecteur des profondeurs sur les points de discrétisation \n",
    "$\\mathbf{z}=(z(x_0),\\dots,z(x_N))$ est la réalisation d'un vecteur aléatoire gaussien $\\mathbf{Z}=(Z(x_0),\\dots,Z(x_N))$ dont le vecteur d'espérance ne contient qu'une seule valeur $\\mu$ répétée $N+1$ fois et dont la matrice de covariance $\\Sigma$ a pour termes $\\sigma_{ij}$\n",
    "définis par $\\sigma_{ij}=C(|x_i-x_j|)$ où $C$ est une\n",
    "fonction décroissante, traduisant le fait que deux points \n",
    "géographiquement proches ont tendance à avoir des profondeurs plus similaires que deux points éloignés.\n",
    "\n",
    "On supposera que la matrice de covariance ainsi \n",
    "générée est définie-positive (en fait, $C$ sera choisie parmi les fonctions qui, \n",
    "appliquées aux termes d'une matrice de distance, produisent des matrices définie-positives). \n",
    "\n",
    "Si on note $L$ la variable aléatoire donnant la longueur de cable nécessaire : \n",
    "$$L=\\sum_{i=1}^N\\sqrt{\\Delta^2+(Z(x_i)-Z(x_{i-1}))^2},$$\n",
    "un bon estimateur de $L$ est fourni par l'espérance conditionnelle \n",
    "\n",
    "$$L^\\star=E[L|Z(x_{j_1})=z(x_{j_1}),\\dots,Z(x_{j_n})=z(x_{j_n})].$$\n",
    "                                                                              \n",
    "Cependant, cette quantité est difficilement accessible par le calcul. \n",
    "On va donc avoir recours à des\n",
    "simulations conditionnelles. C'est-à-dire que l'on va simuler \n",
    "un nombre $K$ de réalités (disons des réalisations du modèle \n",
    "probabiliste choisi), et sur chacune d'entre elle, \n",
    "la quantité de câble nécessaire sera évaluée. \n",
    "On disposera ainsi d'un échantillon $l_{(1)},\\dots,l_{(K)}$ de \n",
    "longueures simulées. Puis on approchera l'espérance conditionnelle  par \n",
    "$$L^\\star=\\frac{1}{K}\\sum_{k=1}^K l_{(k)}.$$\n",
    "\n",
    "L'objectif de ce projet est donc d'écrire un code permettant \n",
    "d'effectuer cette simulation conditionnelle, puis de l'appliquer \n",
    "au jeu de données fourni et d'en déduire une estimation de la longueur de câble nécessaire."
   ]
  },
  {
   "cell_type": "markdown",
   "metadata": {},
   "source": [
    "# Questions théoriques\n",
    "\n",
    "1. Quel théorème du cours nous autorise-t-il à estimer l'espérance conditionnelle par la moyenne empirique de simulations conditionnelles ?\n",
    "\n",
    "2. Rappeler la loi conditionnelle du vecteur des composantes de $\\mathbf{Z}$ correspondant aux points de discrétisation\n",
    "sans observation, connaissant les valeurs prises par les composantes aux sites d'observation.\n",
    "\n",
    "3. Si $\\mathbf{Y}=(Y_1,\\dots,Y_p)$ est un vecteur de composantes gaussiennes indépendantes, toutes d'espérance nulle et de variance 1, \n",
    "quelle est la loi du vecteur $\\mathbf{Z}=m+R\\mathbf{Y}$ où $R$ est une matrice $p\\times p$ inversible et $m$ est un vecteur de taille $p$ ?\n",
    "\n",
    "4. En déduire un algorithme de simulation conditionnelle."
   ]
  },
  {
   "cell_type": "markdown",
   "metadata": {},
   "source": [
    "1.\n",
    "- Par définition, l'espérance conditionnelle est telle que : \n",
    "Soit $Y$ une variable aléatoire intégrable.\n",
    "\n",
    "L'espérance conditionnelle de $Y$ sachant $\\left\\{X=x\\right\\}$ est définie par $$ E(Y|X=x) = \\int_\\mathbb{R} y \\mathbb{P}_{Y|X=x} (dy).$$\n",
    "L'espérance conditionnelle de $Y$ sachant $X$ est la variable aléatoire définie par : $$ E(Y|X) = \\psi(X), \\text{ avec } \\psi(x) = E(Y|X=x).$$\n",
    "\n",
    "- De plus, **la loi forte des grands nombres** nous assure :\n",
    "\n",
    "Soit $(X_n)_{n\\in\\mathbb{N^\\ast}}$ une suite de variables aléatoires indépendantes, de même loi et intégrables, et $m = E(X_n)$ leur espérance. Alors la suite $(M_n)_{n\\in\\mathbb{N^\\ast}}$ définie par $$M_n = \\frac{X_1 + \\ldots + X_n}{n}$$ converge vers $m$, presque sûrement et en moyenne, quand $n$ tend vers l'infini.\n",
    "\n",
    "- On peut donc estimer, d'après la loi forte des grands nombres, $E(Y|X=x) = \\int_\\mathbb{R} y \\mathbb{P}_{Y|X=x}(dy)$ par la moyenne empirique $$M_n(x)=\\frac{1}{n}\\sum_{i=1}^{n}Y_i ,$$ les $(Y_i)$ constituant un échantillon généré tel que $(Y_1,\\ldots,Y_n) \\sim_{i.i.d.}\\mathbb{P}_{Y|X=x}$,où i.i.d signifie indépendant et identiquement distribué.\n",
    "Si $y$ est $\\mathbb{P}_{Y|X}$-intégrable, on a l'assurance que quand $n \\to +\\infty$, $$M_n(x) \\rightarrow E(Y|X=x) = \\int_\\mathbb{R} y \\mathbb{P}_{Y|X=x} (dy) \\text{ p.s.}$$\n",
    "\n",
    "Appliqué à notre problème, on a : les longueurs $l_{(1)},\\dots,l_{(K)}$ mutuellement indépendantes, de même loi et intégrables (car bornées) donc d'après la loi forte des grands nombres, l'espérance conditionnelle peut être estimer par la moyenne empirique de simulations conditionnellles."
   ]
  },
  {
   "cell_type": "markdown",
   "metadata": {},
   "source": [
    "2.\n",
    "On considère le vecteur gaussien $\\mathbf{Z} = (Z(x_0),\\ldots,Z(x_N))$ dont le vecteur d'espérance ne contient qu'une seule valeur $\\mu$ répétée $N+1$ fois et dont la matrice de covariance est notée $\\Sigma$, définie positive. La densité du vecteur $Z$ s'écrit pour $z\\in\\mathbb{R}^{N+1}$ : $$f_Z(z) = \\frac{1}{(2\\pi)^{n/2}\\sqrt{\\det (\\Sigma)}}\\exp \\left(-\\frac{1}{2}(z-\\mu)^t \\Sigma^{-1}(z-\\mu)\\right)$$\n",
    "\n",
    "Soit $0 \\leq k < N$ un entier. \n",
    "On souhaite exprimer $f_{X|T=t}$, la densité conditionnelle de \n",
    "$\\mathbf{X} = (Z(x_0),\\ldots,Z(x_{k-1}))$ sachant que\n",
    "$\\mathbf{T} = (Z(x_k),\\ldots,Z(x_N)) = (z(x_k),\\ldots,z(x_N)) = t$. Il est en effet possible de réordonner le vecteur $\\mathbf{Z}$ pour que les points connus soient ensemble afin de simplifier les calculs par la suite.\n",
    "\n",
    "On sait que $f_Z = f_{X|T=t} f_T$, où $f_T$ est la densité marginale de $T$.\n",
    "On cherche donc à décomposer $f_Z$ de la sorte. On note $m = (m_X,m_T)$ et on remarque que $\\Sigma$ peut se décomposer en blocs : \n",
    "\\begin{equation*} \n",
    "\\Sigma = \\left(\\begin{array}{cc} \n",
    "\\Sigma_X & \\Sigma_{X,T} \\\\\n",
    "\\Sigma_{T,X} & \\Sigma_t \n",
    "\\end{array}\\right) \n",
    "\\end{equation*} \n",
    "où $\\Sigma_X = Cov(X,X)$, $\\Sigma_T = Cov(T,T)$ et $\\Sigma_{X,T} = \\Sigma_{T,X} = Cov(X,T)$. \n",
    "\n",
    "Le complément de Schur du bloc $\\Sigma_X$ est la matrice $\\Sigma S_X = \\Sigma_X - \\Sigma_{X,T}\\Sigma_T^{-1}\\Sigma_{T,X}$.\n",
    "\n",
    "\n",
    "On en déduit ainsi :\n",
    "\n",
    "$$f_{X|T=t}(x) = \\frac{1}{(2\\pi)^{k/2}\\sqrt{\\det (\\Sigma S_X)}}\\exp \\left(-\\frac{1}{2}\\left(x - \\psi(t)\\right)^t \\Sigma S_X^{-1}\\left(x - \\psi(t))\\right)\\right).$$\n",
    "\n",
    "Ce qui est d'autre termes nous dit que la variable $\\mathbf{X|T=t}$ suit une loi gaussienne d'espérance $\\psi(t) = \\psi(x) = E(X|T=t) = m_{X|T=t}= m_{Z|Z_{p}=z} = E(X) + \\Sigma_{X,T}C_{Z_{p}}^{-1}(z-m_{\\mathbf{Z_{p}}})$ et de matrice de covariance $\\Sigma S_X$"
   ]
  },
  {
   "cell_type": "markdown",
   "metadata": {},
   "source": [
    "3.\n",
    "Si ${Y}=(Y_1,\\dots,Y_p)$ est un vecteur de composantes gaussiennes indépendantes, toutes d'espérance nulle et de variance 1,les $Y_i$ sont donc des variables aléatoires gaussiennes centrées, réduites et indépendantes.\n",
    "    Alors, le vecteur $Z = m + RY$ où $R$ est une matrice $p\\times p$ et $m$ est un vecteur de taille $p$ est gaussien comme combinaison linéaire de variables aléatoires gaussiennes, d'espérance m (par linéarité de l'espérance) et de matrice de covariance $\\Sigma = RR^t$."
   ]
  },
  {
   "cell_type": "markdown",
   "metadata": {},
   "source": [
    "4. On va utiliser les étapes suggérées par les questions précédentes.\n",
    "\n",
    "\n",
    "\n",
    "- On connaît $\\mu$, $\\Sigma$ et $T$.\n",
    "- On va alors construire $Z$ tel que $Z = m +RY$ où $m$ est le vecteur colonne de la moyenne (ici constitué uniquement de $\\mu$) et $R$ telle que $\\Sigma = RR^t$.\n",
    "- Comme on a défini $\\mathbf{Z}$ telle que $\\mathbf{Z}$ se décompose sous la forme de $\\mathbf{X}$ et $\\mathbf{T}$, on peut déterminer l'espérance $m_{X|T=t}$ et la matrice de covariance $\\Sigma S_X$ associée.\n",
    "- Enfin, on va appliquer de nouveau le procédé utilisé pour $Z$ tel que $X|(T=t) = m_{X|T=t} + AY$ où $AA^t=\\Sigma S_X$."
   ]
  },
  {
   "cell_type": "markdown",
   "metadata": {},
   "source": [
    "# Données du problème\n",
    "Conventionnellement, $A$ est l'origine, $B=500$, $N=100$.\n",
    "\n",
    "Les données $$\\begin{array}{c|r}i & z(x_i)\\\\\n",
    "\\hline\n",
    "0 & 0\\\\\n",
    "20 & -4\\\\\n",
    "40 & -12.8\\\\\n",
    "60 & -1\\\\\n",
    "80 & -6.5\\\\\n",
    "100 & 0\\end{array}$$\n",
    "\n",
    "L'espérance de chaque composante du vecteur aléatoire $\\mathbf{Z}$ est donnée par $\\mu=-5.$\n",
    "\n",
    "La fonction $C$ est définie par $$C(h)=\\sigma^2 e^{-|h|/a},$$\n",
    "\n",
    "où $|h|$ correspond à la distance entre deux points, $a=50$ et $\\sigma^2=12$.\n"
   ]
  },
  {
   "cell_type": "markdown",
   "metadata": {},
   "source": [
    "# Implémentation"
   ]
  },
  {
   "cell_type": "markdown",
   "metadata": {},
   "source": [
    "## Préambule"
   ]
  },
  {
   "cell_type": "code",
   "execution_count": 1,
   "metadata": {},
   "outputs": [],
   "source": [
    "#Chargement de dépendances\n",
    "\n",
    "import numpy as np\n",
    "import matplotlib.pyplot as plt\n",
    "\n",
    "#Discrétisation\n",
    "A=0\n",
    "B=500\n",
    "N=101 #Nombre de points de discrétisation\n",
    "Delta = (B-A)/(N-1)\n",
    "discretization_indexes = np.arange(N)\n",
    "discretization = discretization_indexes*Delta\n",
    "#Paramètres du modèle\n",
    "\n",
    "mu=-5\n",
    "a = 50\n",
    "sigma2 = 12\n",
    "\n",
    "#Données\n",
    "\n",
    "observation_indexes = [0,20,40,60,80,100]\n",
    "depth = np.array([0,-4,-12.8,-1,-6.5,0])\n",
    "\n",
    "#Indices des composantes correspondant aux observations et aux componsantes non observées\n",
    "unknown_indexes=list(set(discretization_indexes)-set(observation_indexes))"
   ]
  },
  {
   "cell_type": "markdown",
   "metadata": {},
   "source": [
    "## Questions\n",
    "\n",
    "1. Ecrire une fonction qui prend en argument la distance entre les points, le paramètre $a$, et le paramètre $\\sigma^2$, et qui retourne la covariance entre deux points.\n",
    "On pourra fournir une matrice de distance à cette fonction. Dans ce cas, la fonction renverra la matrice de covariance."
   ]
  },
  {
   "cell_type": "markdown",
   "metadata": {},
   "source": [
    "On utilise la définition de la covariance associée au vecteur aléatoire $\\mathbf{Z}$ donnée par l'énoncé par  $Cov(Z(x_i), Z(x_j)) = \\sigma_{ij}=C(|x_i-x_j|)$ où $C(h)=\\sigma^2 e^{-|h|/a}$ (on considère que $0 \\leqslant i, j \\leqslant N$ et donc on numérote les coefficients de la matrice de covariance de la même façon).\n",
    "On a alors :\n",
    "$$ Cov(Z(x_i), Z(x_j)) = \\sigma_{ij} = \\sigma^2 e^{-d_{i,j}/a} $$ où $d_{i,j} = |x_i-x_j| = \\Delta|i-j|$ (on ne considère que la distance entre les points sur la longueur et pas sur la profondeur)."
   ]
  },
  {
   "cell_type": "code",
   "execution_count": 2,
   "metadata": {},
   "outputs": [],
   "source": [
    "def cov(h, a, sigma2):\n",
    "    return(np.exp(-abs(h)/a)*sigma2)"
   ]
  },
  {
   "cell_type": "code",
   "execution_count": 3,
   "metadata": {},
   "outputs": [
    {
     "data": {
      "text/plain": [
       "array([[12.        , 11.52947327],\n",
       "       [11.07739616,  8.71378844]])"
      ]
     },
     "execution_count": 3,
     "metadata": {},
     "output_type": "execute_result"
    }
   ],
   "source": [
    "#Exemple\n",
    "T = np.array([[0,2], [4,16]])\n",
    "cov(T, a, sigma2)"
   ]
  },
  {
   "cell_type": "markdown",
   "metadata": {},
   "source": [
    "2. Calculer la matrice de distance."
   ]
  },
  {
   "cell_type": "markdown",
   "metadata": {},
   "source": [
    "La matrice de distance est définie avec $0 \\leqslant i, j \\leqslant N$, donc sur Python, cela ne pose aucun problème avec le décalage d'indice de 1.\n",
    "On a donc, pour $D$ la matrice de distance avec $d_{i,j}$ ses coefficients :\n",
    "$$ d_{i,j} = |x_i-x_j| = \\Delta|i-j|$$"
   ]
  },
  {
   "cell_type": "code",
   "execution_count": 4,
   "metadata": {},
   "outputs": [
    {
     "data": {
      "text/plain": [
       "array([[  0.,   5.,  10., ..., 490., 495., 500.],\n",
       "       [  5.,   0.,   5., ..., 485., 490., 495.],\n",
       "       [ 10.,   5.,   0., ..., 480., 485., 490.],\n",
       "       ...,\n",
       "       [490., 485., 480., ...,   0.,   5.,  10.],\n",
       "       [495., 490., 485., ...,   5.,   0.,   5.],\n",
       "       [500., 495., 490., ...,  10.,   5.,   0.]])"
      ]
     },
     "execution_count": 4,
     "metadata": {},
     "output_type": "execute_result"
    }
   ],
   "source": [
    "def matricedistance(Delta, N):\n",
    "    D = np.zeros((N, N))\n",
    "    for i in range (N):\n",
    "        for j in range (N):\n",
    "            D[i][j] = Delta*abs(i-j)\n",
    "    return(D)\n",
    "\n",
    "matricedistance(Delta, N)"
   ]
  },
  {
   "cell_type": "markdown",
   "metadata": {},
   "source": [
    "3. Calculer la matrice de covariance du vecteur $\\mathbf{Z}=(Z(x_0),\\dots,Z(x_N))$."
   ]
  },
  {
   "cell_type": "markdown",
   "metadata": {},
   "source": [
    "La matrice de covariance de $\\mathbf{Z}$ est définie par  $[Cov(Z(x_i), Z(x_j)]_{i,j}) = [\\sigma_{ij}]_{i,j}=[C(|x_i-x_j|)]_{i,j}=[C(d_{i,j})]_{i,j} = C(D)$ (là encore, il n'y apas de problème avec les indices car Python commence à l'index 0)."
   ]
  },
  {
   "cell_type": "code",
   "execution_count": 5,
   "metadata": {},
   "outputs": [
    {
     "data": {
      "text/plain": [
       "array([[1.20000000e+01, 1.08580490e+01, 9.82476904e+00, ...,\n",
       "        6.65419193e-04, 6.02096185e-04, 5.44799157e-04],\n",
       "       [1.08580490e+01, 1.20000000e+01, 1.08580490e+01, ...,\n",
       "        7.35401941e-04, 6.65419193e-04, 6.02096185e-04],\n",
       "       [9.82476904e+00, 1.08580490e+01, 1.20000000e+01, ...,\n",
       "        8.12744838e-04, 7.35401941e-04, 6.65419193e-04],\n",
       "       ...,\n",
       "       [6.65419193e-04, 7.35401941e-04, 8.12744838e-04, ...,\n",
       "        1.20000000e+01, 1.08580490e+01, 9.82476904e+00],\n",
       "       [6.02096185e-04, 6.65419193e-04, 7.35401941e-04, ...,\n",
       "        1.08580490e+01, 1.20000000e+01, 1.08580490e+01],\n",
       "       [5.44799157e-04, 6.02096185e-04, 6.65419193e-04, ...,\n",
       "        9.82476904e+00, 1.08580490e+01, 1.20000000e+01]])"
      ]
     },
     "execution_count": 5,
     "metadata": {},
     "output_type": "execute_result"
    }
   ],
   "source": [
    "def matricecovariance(N, a, sigma2, Delta):\n",
    "    return cov(matricedistance(Delta, N), a, sigma2)\n",
    "\n",
    "matricecovariance(N, a, sigma2, Delta)"
   ]
  },
  {
   "cell_type": "markdown",
   "metadata": {},
   "source": [
    "4. Extraire les 3 matrices de covariance suivantes :\n",
    "\n",
    " * entre les observations\n",
    "\n",
    " * entre les observations et les inconnues\n",
    "\n",
    " * entre les inconnues\n"
   ]
  },
  {
   "cell_type": "markdown",
   "metadata": {},
   "source": [
    "Par définition, une matrice de covariance Z est symétrique. On va donc seulement se concentrer sur la partie supérieure de Z. On connaît les indices des inconnues et des observations, on va alors pouvoir extraire les matrices de covariance demandées.\n",
    "On remarque que les matrices entre les observations et entre les inconnues sont symétriques (mais pas la matrice entre les observations et les inconnues)."
   ]
  },
  {
   "cell_type": "code",
   "execution_count": 6,
   "metadata": {},
   "outputs": [
    {
     "name": "stdout",
     "output_type": "stream",
     "text": [
      "La matrice de covariance entre les observations est \n",
      "[[1.20000000e+01 1.62402340e+00 2.19787667e-01 2.97450261e-02\n",
      "  4.02555153e-03 5.44799157e-04]\n",
      " [1.62402340e+00 1.20000000e+01 1.62402340e+00 2.19787667e-01\n",
      "  2.97450261e-02 4.02555153e-03]\n",
      " [2.19787667e-01 1.62402340e+00 1.20000000e+01 1.62402340e+00\n",
      "  2.19787667e-01 2.97450261e-02]\n",
      " [2.97450261e-02 2.19787667e-01 1.62402340e+00 1.20000000e+01\n",
      "  1.62402340e+00 2.19787667e-01]\n",
      " [4.02555153e-03 2.97450261e-02 2.19787667e-01 1.62402340e+00\n",
      "  1.20000000e+01 1.62402340e+00]\n",
      " [5.44799157e-04 4.02555153e-03 2.97450261e-02 2.19787667e-01\n",
      "  1.62402340e+00 1.20000000e+01]]\n",
      "La matrice de covariance entre les inconnues est \n",
      "[[1.20000000e+01 1.08580490e+01 9.82476904e+00 ... 8.12744838e-04\n",
      "  7.35401941e-04 6.65419193e-04]\n",
      " [1.08580490e+01 1.20000000e+01 1.08580490e+01 ... 8.98221959e-04\n",
      "  8.12744838e-04 7.35401941e-04]\n",
      " [9.82476904e+00 1.08580490e+01 1.20000000e+01 ... 9.92688787e-04\n",
      "  8.98221959e-04 8.12744838e-04]\n",
      " ...\n",
      " [8.12744838e-04 8.98221959e-04 9.92688787e-04 ... 1.20000000e+01\n",
      "  1.08580490e+01 9.82476904e+00]\n",
      " [7.35401941e-04 8.12744838e-04 8.98221959e-04 ... 1.08580490e+01\n",
      "  1.20000000e+01 1.08580490e+01]\n",
      " [6.65419193e-04 7.35401941e-04 8.12744838e-04 ... 9.82476904e+00\n",
      "  1.08580490e+01 1.20000000e+01]]\n",
      "La matrice de covariance entre les observations et les inconnues est \n",
      "[[1.08580490e+01 9.82476904e+00 8.88981865e+00 8.04384055e+00\n",
      "  7.27836792e+00 6.58573963e+00 5.95902365e+00 5.39194757e+00\n",
      "  4.87883592e+00 4.41455329e+00 3.99445300e+00 3.61433054e+00\n",
      "  3.27038152e+00 2.95916357e+00 2.67756192e+00 2.42275822e+00\n",
      "  2.19220229e+00 1.98358666e+00 1.79482343e+00 1.46947714e+00\n",
      "  1.32963790e+00 1.20310612e+00 1.08861544e+00 9.85019983e-01\n",
      "  8.91282939e-01 8.06466153e-01 7.29720752e-01 6.60278641e-01\n",
      "  5.97444820e-01 5.40590429e-01 4.89146448e-01 4.42598009e-01\n",
      "  4.00479240e-01 3.62368601e-01 3.27884669e-01 2.96682318e-01\n",
      "  2.68449262e-01 2.42902937e-01 1.98872105e-01 1.79946922e-01\n",
      "  1.62822708e-01 1.47328079e-01 1.33307958e-01 1.20622029e-01\n",
      "  1.09143325e-01 9.87569646e-02 8.93589969e-02 8.08553640e-02\n",
      "  7.31609588e-02 6.61987730e-02 5.98991269e-02 5.41989713e-02\n",
      "  4.90412573e-02 4.43743646e-02 4.01515855e-02 3.63306569e-02\n",
      "  3.28733378e-02 2.69144126e-02 2.43531676e-02 2.20356573e-02\n",
      "  1.99386873e-02 1.80412703e-02 1.63244165e-02 1.47709428e-02\n",
      "  1.33653018e-02 1.20934251e-02 1.09425836e-02 9.90125908e-03\n",
      "  8.95902970e-03 8.10646530e-03 7.33503313e-03 6.63701244e-03\n",
      "  6.00541720e-03 5.43392619e-03 4.91681975e-03 4.44892249e-03\n",
      "  3.64246966e-03 3.29584284e-03 2.98220193e-03 2.69840789e-03\n",
      "  2.44162043e-03 2.20926952e-03 1.99902973e-03 1.80879690e-03\n",
      "  1.63666712e-03 1.48091765e-03 1.33998970e-03 1.21247282e-03\n",
      "  1.09709078e-03 9.92688787e-04 8.98221959e-04 8.12744838e-04\n",
      "  7.35401941e-04 6.65419193e-04 6.02096185e-04]\n",
      " [1.79482343e+00 1.98358666e+00 2.19220229e+00 2.42275822e+00\n",
      "  2.67756192e+00 2.95916357e+00 3.27038152e+00 3.61433054e+00\n",
      "  3.99445300e+00 4.41455329e+00 4.87883592e+00 5.39194757e+00\n",
      "  5.95902365e+00 6.58573963e+00 7.27836792e+00 8.04384055e+00\n",
      "  8.88981865e+00 9.82476904e+00 1.08580490e+01 1.08580490e+01\n",
      "  9.82476904e+00 8.88981865e+00 8.04384055e+00 7.27836792e+00\n",
      "  6.58573963e+00 5.95902365e+00 5.39194757e+00 4.87883592e+00\n",
      "  4.41455329e+00 3.99445300e+00 3.61433054e+00 3.27038152e+00\n",
      "  2.95916357e+00 2.67756192e+00 2.42275822e+00 2.19220229e+00\n",
      "  1.98358666e+00 1.79482343e+00 1.46947714e+00 1.32963790e+00\n",
      "  1.20310612e+00 1.08861544e+00 9.85019983e-01 8.91282939e-01\n",
      "  8.06466153e-01 7.29720752e-01 6.60278641e-01 5.97444820e-01\n",
      "  5.40590429e-01 4.89146448e-01 4.42598009e-01 4.00479240e-01\n",
      "  3.62368601e-01 3.27884669e-01 2.96682318e-01 2.68449262e-01\n",
      "  2.42902937e-01 1.98872105e-01 1.79946922e-01 1.62822708e-01\n",
      "  1.47328079e-01 1.33307958e-01 1.20622029e-01 1.09143325e-01\n",
      "  9.87569646e-02 8.93589969e-02 8.08553640e-02 7.31609588e-02\n",
      "  6.61987730e-02 5.98991269e-02 5.41989713e-02 4.90412573e-02\n",
      "  4.43743646e-02 4.01515855e-02 3.63306569e-02 3.28733378e-02\n",
      "  2.69144126e-02 2.43531676e-02 2.20356573e-02 1.99386873e-02\n",
      "  1.80412703e-02 1.63244165e-02 1.47709428e-02 1.33653018e-02\n",
      "  1.20934251e-02 1.09425836e-02 9.90125908e-03 8.95902970e-03\n",
      "  8.10646530e-03 7.33503313e-03 6.63701244e-03 6.00541720e-03\n",
      "  5.43392619e-03 4.91681975e-03 4.44892249e-03]\n",
      " [2.42902937e-01 2.68449262e-01 2.96682318e-01 3.27884669e-01\n",
      "  3.62368601e-01 4.00479240e-01 4.42598009e-01 4.89146448e-01\n",
      "  5.40590429e-01 5.97444820e-01 6.60278641e-01 7.29720752e-01\n",
      "  8.06466153e-01 8.91282939e-01 9.85019983e-01 1.08861544e+00\n",
      "  1.20310612e+00 1.32963790e+00 1.46947714e+00 1.79482343e+00\n",
      "  1.98358666e+00 2.19220229e+00 2.42275822e+00 2.67756192e+00\n",
      "  2.95916357e+00 3.27038152e+00 3.61433054e+00 3.99445300e+00\n",
      "  4.41455329e+00 4.87883592e+00 5.39194757e+00 5.95902365e+00\n",
      "  6.58573963e+00 7.27836792e+00 8.04384055e+00 8.88981865e+00\n",
      "  9.82476904e+00 1.08580490e+01 1.08580490e+01 9.82476904e+00\n",
      "  8.88981865e+00 8.04384055e+00 7.27836792e+00 6.58573963e+00\n",
      "  5.95902365e+00 5.39194757e+00 4.87883592e+00 4.41455329e+00\n",
      "  3.99445300e+00 3.61433054e+00 3.27038152e+00 2.95916357e+00\n",
      "  2.67756192e+00 2.42275822e+00 2.19220229e+00 1.98358666e+00\n",
      "  1.79482343e+00 1.46947714e+00 1.32963790e+00 1.20310612e+00\n",
      "  1.08861544e+00 9.85019983e-01 8.91282939e-01 8.06466153e-01\n",
      "  7.29720752e-01 6.60278641e-01 5.97444820e-01 5.40590429e-01\n",
      "  4.89146448e-01 4.42598009e-01 4.00479240e-01 3.62368601e-01\n",
      "  3.27884669e-01 2.96682318e-01 2.68449262e-01 2.42902937e-01\n",
      "  1.98872105e-01 1.79946922e-01 1.62822708e-01 1.47328079e-01\n",
      "  1.33307958e-01 1.20622029e-01 1.09143325e-01 9.87569646e-02\n",
      "  8.93589969e-02 8.08553640e-02 7.31609588e-02 6.61987730e-02\n",
      "  5.98991269e-02 5.41989713e-02 4.90412573e-02 4.43743646e-02\n",
      "  4.01515855e-02 3.63306569e-02 3.28733378e-02]\n",
      " [3.28733378e-02 3.63306569e-02 4.01515855e-02 4.43743646e-02\n",
      "  4.90412573e-02 5.41989713e-02 5.98991269e-02 6.61987730e-02\n",
      "  7.31609588e-02 8.08553640e-02 8.93589969e-02 9.87569646e-02\n",
      "  1.09143325e-01 1.20622029e-01 1.33307958e-01 1.47328079e-01\n",
      "  1.62822708e-01 1.79946922e-01 1.98872105e-01 2.42902937e-01\n",
      "  2.68449262e-01 2.96682318e-01 3.27884669e-01 3.62368601e-01\n",
      "  4.00479240e-01 4.42598009e-01 4.89146448e-01 5.40590429e-01\n",
      "  5.97444820e-01 6.60278641e-01 7.29720752e-01 8.06466153e-01\n",
      "  8.91282939e-01 9.85019983e-01 1.08861544e+00 1.20310612e+00\n",
      "  1.32963790e+00 1.46947714e+00 1.79482343e+00 1.98358666e+00\n",
      "  2.19220229e+00 2.42275822e+00 2.67756192e+00 2.95916357e+00\n",
      "  3.27038152e+00 3.61433054e+00 3.99445300e+00 4.41455329e+00\n",
      "  4.87883592e+00 5.39194757e+00 5.95902365e+00 6.58573963e+00\n",
      "  7.27836792e+00 8.04384055e+00 8.88981865e+00 9.82476904e+00\n",
      "  1.08580490e+01 1.08580490e+01 9.82476904e+00 8.88981865e+00\n",
      "  8.04384055e+00 7.27836792e+00 6.58573963e+00 5.95902365e+00\n",
      "  5.39194757e+00 4.87883592e+00 4.41455329e+00 3.99445300e+00\n",
      "  3.61433054e+00 3.27038152e+00 2.95916357e+00 2.67756192e+00\n",
      "  2.42275822e+00 2.19220229e+00 1.98358666e+00 1.79482343e+00\n",
      "  1.46947714e+00 1.32963790e+00 1.20310612e+00 1.08861544e+00\n",
      "  9.85019983e-01 8.91282939e-01 8.06466153e-01 7.29720752e-01\n",
      "  6.60278641e-01 5.97444820e-01 5.40590429e-01 4.89146448e-01\n",
      "  4.42598009e-01 4.00479240e-01 3.62368601e-01 3.27884669e-01\n",
      "  2.96682318e-01 2.68449262e-01 2.42902937e-01]\n",
      " [4.44892249e-03 4.91681975e-03 5.43392619e-03 6.00541720e-03\n",
      "  6.63701244e-03 7.33503313e-03 8.10646530e-03 8.95902970e-03\n",
      "  9.90125908e-03 1.09425836e-02 1.20934251e-02 1.33653018e-02\n",
      "  1.47709428e-02 1.63244165e-02 1.80412703e-02 1.99386873e-02\n",
      "  2.20356573e-02 2.43531676e-02 2.69144126e-02 3.28733378e-02\n",
      "  3.63306569e-02 4.01515855e-02 4.43743646e-02 4.90412573e-02\n",
      "  5.41989713e-02 5.98991269e-02 6.61987730e-02 7.31609588e-02\n",
      "  8.08553640e-02 8.93589969e-02 9.87569646e-02 1.09143325e-01\n",
      "  1.20622029e-01 1.33307958e-01 1.47328079e-01 1.62822708e-01\n",
      "  1.79946922e-01 1.98872105e-01 2.42902937e-01 2.68449262e-01\n",
      "  2.96682318e-01 3.27884669e-01 3.62368601e-01 4.00479240e-01\n",
      "  4.42598009e-01 4.89146448e-01 5.40590429e-01 5.97444820e-01\n",
      "  6.60278641e-01 7.29720752e-01 8.06466153e-01 8.91282939e-01\n",
      "  9.85019983e-01 1.08861544e+00 1.20310612e+00 1.32963790e+00\n",
      "  1.46947714e+00 1.79482343e+00 1.98358666e+00 2.19220229e+00\n",
      "  2.42275822e+00 2.67756192e+00 2.95916357e+00 3.27038152e+00\n",
      "  3.61433054e+00 3.99445300e+00 4.41455329e+00 4.87883592e+00\n",
      "  5.39194757e+00 5.95902365e+00 6.58573963e+00 7.27836792e+00\n",
      "  8.04384055e+00 8.88981865e+00 9.82476904e+00 1.08580490e+01\n",
      "  1.08580490e+01 9.82476904e+00 8.88981865e+00 8.04384055e+00\n",
      "  7.27836792e+00 6.58573963e+00 5.95902365e+00 5.39194757e+00\n",
      "  4.87883592e+00 4.41455329e+00 3.99445300e+00 3.61433054e+00\n",
      "  3.27038152e+00 2.95916357e+00 2.67756192e+00 2.42275822e+00\n",
      "  2.19220229e+00 1.98358666e+00 1.79482343e+00]\n",
      " [6.02096185e-04 6.65419193e-04 7.35401941e-04 8.12744838e-04\n",
      "  8.98221959e-04 9.92688787e-04 1.09709078e-03 1.21247282e-03\n",
      "  1.33998970e-03 1.48091765e-03 1.63666712e-03 1.80879690e-03\n",
      "  1.99902973e-03 2.20926952e-03 2.44162043e-03 2.69840789e-03\n",
      "  2.98220193e-03 3.29584284e-03 3.64246966e-03 4.44892249e-03\n",
      "  4.91681975e-03 5.43392619e-03 6.00541720e-03 6.63701244e-03\n",
      "  7.33503313e-03 8.10646530e-03 8.95902970e-03 9.90125908e-03\n",
      "  1.09425836e-02 1.20934251e-02 1.33653018e-02 1.47709428e-02\n",
      "  1.63244165e-02 1.80412703e-02 1.99386873e-02 2.20356573e-02\n",
      "  2.43531676e-02 2.69144126e-02 3.28733378e-02 3.63306569e-02\n",
      "  4.01515855e-02 4.43743646e-02 4.90412573e-02 5.41989713e-02\n",
      "  5.98991269e-02 6.61987730e-02 7.31609588e-02 8.08553640e-02\n",
      "  8.93589969e-02 9.87569646e-02 1.09143325e-01 1.20622029e-01\n",
      "  1.33307958e-01 1.47328079e-01 1.62822708e-01 1.79946922e-01\n",
      "  1.98872105e-01 2.42902937e-01 2.68449262e-01 2.96682318e-01\n",
      "  3.27884669e-01 3.62368601e-01 4.00479240e-01 4.42598009e-01\n",
      "  4.89146448e-01 5.40590429e-01 5.97444820e-01 6.60278641e-01\n",
      "  7.29720752e-01 8.06466153e-01 8.91282939e-01 9.85019983e-01\n",
      "  1.08861544e+00 1.20310612e+00 1.32963790e+00 1.46947714e+00\n",
      "  1.79482343e+00 1.98358666e+00 2.19220229e+00 2.42275822e+00\n",
      "  2.67756192e+00 2.95916357e+00 3.27038152e+00 3.61433054e+00\n",
      "  3.99445300e+00 4.41455329e+00 4.87883592e+00 5.39194757e+00\n",
      "  5.95902365e+00 6.58573963e+00 7.27836792e+00 8.04384055e+00\n",
      "  8.88981865e+00 9.82476904e+00 1.08580490e+01]]\n"
     ]
    }
   ],
   "source": [
    "def extraction_matrices_covariances(C_all, observation_indexes, unknown_indexes):\n",
    "    # Entre les observations\n",
    "    C_obs = C_all[:, observation_indexes]\n",
    "    C_obs = C_obs[observation_indexes, :]\n",
    "    \n",
    "    # Entre les inconnues\n",
    "    C_unk = C_all[:, unknown_indexes]\n",
    "    C_unk = C_unk[unknown_indexes, :]\n",
    "    \n",
    "    # Entre les observations et les inconnues\n",
    "    C_obs_unk = C_all[observation_indexes, :]\n",
    "    C_obs_unk = C_obs_unk[:, unknown_indexes]\n",
    "    \n",
    "    return(C_obs, C_unk, C_obs_unk)\n",
    "\n",
    "C_all = matricecovariance(N, a, sigma2, Delta)\n",
    "C_obs, C_unk, C_obs_unk = extraction_matrices_covariances(C_all, observation_indexes, unknown_indexes)\n",
    "C_obs_unk_t = np.transpose(C_obs_unk)\n",
    "\n",
    "print(\"La matrice de covariance entre les observations est \")\n",
    "print(C_obs)\n",
    "print(\"La matrice de covariance entre les inconnues est \")\n",
    "print(C_unk)\n",
    "print(\"La matrice de covariance entre les observations et les inconnues est \")\n",
    "print(C_obs_unk)"
   ]
  },
  {
   "cell_type": "markdown",
   "metadata": {},
   "source": [
    "5. Calculer l'espérance conditionnelle des composantes non observées connaissant les observations et la représenter avec les données."
   ]
  },
  {
   "cell_type": "markdown",
   "metadata": {},
   "source": [
    "On reprend l'expression obtenue à la question 2 de la partie théorique en considérant que $\\mathbf{T}$ est associée aux observations connues et $\\mathbf{X}$ aux inconnues."
   ]
  },
  {
   "cell_type": "code",
   "execution_count": 7,
   "metadata": {},
   "outputs": [
    {
     "ename": "SyntaxError",
     "evalue": "invalid syntax (<ipython-input-7-d5b79f3be685>, line 7)",
     "output_type": "error",
     "traceback": [
      "\u001b[0;36m  File \u001b[0;32m\"<ipython-input-7-d5b79f3be685>\"\u001b[0;36m, line \u001b[0;32m7\u001b[0m\n\u001b[0;31m    C_obs_unk_t = np.transpose(C_obs_unk)\u001b[0m\n\u001b[0m              ^\u001b[0m\n\u001b[0;31mSyntaxError\u001b[0m\u001b[0;31m:\u001b[0m invalid syntax\n"
     ]
    }
   ],
   "source": [
    "def esp_cond(N, mu, depth, C_obs_unk, C_obs, observation_indexes):\n",
    "    nb_obs = len(observation_indexes)\n",
    "    \n",
    "    m_T = np.transpose(np.array([mu]*nb_obs))\n",
    "    m_X = np.transpose(np.array([mu]*(N-nb_obs))\n",
    "    \n",
    "    C_obs_unk_t = np.transpose(C_obs_unk)\n",
    "    cond = m_X + np.matmul(np.matmul(C_obs_unk_t, np.linalg.inv(C_obs)), depth-m_T)\n",
    "    \n",
    "    l_depth = depth.tolist()\n",
    "    l_cond = cond.tolist()\n",
    "    \n",
    "    for i in range(N):\n",
    "        if i in observation_indexes:\n",
    "            l_moycond.append(l_depth.pop(0))\n",
    "        else:\n",
    "            l_moycond.append(l_cond.pop(0))\n",
    "    return(l_moycond)\n",
    "\n",
    "\n",
    "abscisses = np.arange(0, N)\n",
    "l_moycond = esp_cond(N, mu, depth, C_obs_unk, C_obs, observation_indexes)\n",
    "\n",
    "plt.plot(abscisses, l_moycond)\n",
    "plt.title('Espérance conditionnelle des composantes non observées connaissant les observations')\n",
    "plt.show()"
   ]
  },
  {
   "cell_type": "markdown",
   "metadata": {},
   "source": [
    "Je ne comprends pas pourquoi mais il ne veut pas le faire (il y a peut-être un problème avec les 'array currently not supported')."
   ]
  },
  {
   "cell_type": "markdown",
   "metadata": {},
   "source": [
    "6. Calculer la matrice de covariance conditionnelle et tracer sa diagonale (variance conditionnelle) en fonction de la position. Commenter."
   ]
  },
  {
   "cell_type": "markdown",
   "metadata": {},
   "source": [
    "On applique la définition de la covariance conditionnelle."
   ]
  },
  {
   "cell_type": "code",
   "execution_count": 8,
   "metadata": {},
   "outputs": [
    {
     "data": {
      "image/png": "[encoded data removed]",
      "text/plain": [
       "<Figure size 432x288 with 1 Axes>"
      ]
     },
     "metadata": {
      "needs_background": "light"
     },
     "output_type": "display_data"
    }
   ],
   "source": [
    "def matrice_covariance_cond(C_obs, C_unk, C_obs_unk):\n",
    "    C_obs_unk_t = np.transpose(C_obs_unk)\n",
    "    m_cov_cond = C_unk - np.matmul(np.matmul(C_obs_unk_t, np.linalg.inv(C_obs)), C_obs_unk)\n",
    "    return(m_cov_cond)\n",
    "\n",
    "M_cov_cond = matrice_covariance_cond(C_obs, C_unk, C_obs_unk)\n",
    "\n",
    "def diagonale(M):\n",
    "    D = []\n",
    "    for i in range(len(M)):\n",
    "        D.append(M[i][i])\n",
    "    return(D)\n",
    "\n",
    "Diag = diagonale(M_cov_cond)\n",
    "abscisses2 = [k for k in range (len(Diag))]\n",
    "\n",
    "plt.plot(abscisses2, Diag)\n",
    "plt.title('Variance conditionnelle en fonction de la position')\n",
    "plt.xlabel(\"Position (en m)\")\n",
    "plt.ylabel(\"Variance conditionnelle\")\n",
    "plt.show()"
   ]
  },
  {
   "cell_type": "markdown",
   "metadata": {},
   "source": [
    "Au niveau des observations, l'incertitude est plus faible (car on connaît les valeurs) et donc l'écart moyen à la moyenne (racine de la variance) est faible. Plus on s'éloigne des observations, plus l'incertitude augmente ce qui est cohérent."
   ]
  },
  {
   "cell_type": "markdown",
   "metadata": {},
   "source": [
    "7. Effectuer une simulation conditionnelle. Sur un même graphique, tracer la simulation ainsi que les données et l'espérance conditionnelle. Commenter."
   ]
  },
  {
   "cell_type": "markdown",
   "metadata": {},
   "source": [
    "On va alors pouvoir utiliser le procédé décrit à la question 4 de la partie théorique, et en reprenant un peu la strucuture de la question 5 de la partie pratique."
   ]
  },
  {
   "cell_type": "code",
   "execution_count": 9,
   "metadata": {},
   "outputs": [
    {
     "ename": "SyntaxError",
     "evalue": "invalid syntax (<ipython-input-9-735aac305e26>, line 11)",
     "output_type": "error",
     "traceback": [
      "\u001b[0;36m  File \u001b[0;32m\"<ipython-input-9-735aac305e26>\"\u001b[0;36m, line \u001b[0;32m11\u001b[0m\n\u001b[0;31m    cond = m_X + np.matmul(np.matmul(C_obs_unk_t, np.linalg.inv(C_obs)), depth-m_T)\u001b[0m\n\u001b[0m       ^\u001b[0m\n\u001b[0;31mSyntaxError\u001b[0m\u001b[0;31m:\u001b[0m invalid syntax\n"
     ]
    }
   ],
   "source": [
    "from random import gauss #on utilise la fonction gauss de Python pour avoir une répartition de gauss des valeurs de Y\n",
    "\n",
    "def simul_cond():\n",
    "    p = len(observation_indexes)\n",
    "    Y_list = [gauss(0,1) for k in range(N-p)]\n",
    "    Y = np.array(Y_list)\n",
    "    A = np.linalg.cholesky(M_cov_cond)\n",
    "    \n",
    "    m_T = np.transpose(np.array([mu]*p))\n",
    "    m_X = np.transpose(np.array([mu]*(N-p))\n",
    "    cond = m_X + np.matmul(np.matmul(C_obs_unk_t, np.linalg.inv(C_obs)), depth-m_T)\n",
    "    moy_simul = cond + np.matmul(A, Y)\n",
    "                       \n",
    "    Z = []\n",
    "    l_depth = depth.tolist()\n",
    "    l_moy_simul = moy_simul.tolist()\n",
    "                       \n",
    "    for i in range(N):\n",
    "        if i in observation_indexes:\n",
    "            Z.append(l_depth.pop(0))\n",
    "        else :\n",
    "            Z.append(l_moy_simul.pop(0))\n",
    "    return(Z)\n",
    "\n",
    "Z = simul_cond()\n",
    "abscisses3 = [k for k in range(N)]\n",
    "                       \n",
    "plt.plot(abscisses3, Z, label = 'Simulation')\n",
    "plt.plot(abscisses, l_moycond, label = 'Espérance conditionnelle')\n",
    "plt.scatter(observation_indexes, depth, label = 'Données', color = 'r')\n",
    "plt.title('Comparaison simulation et espérance conditionnelle')\n",
    "plt.xlabel('Position (en m)')\n",
    "plt.ylabel('Profondeur (en m)')\n",
    "plt.legend()\n",
    "plt.show()"
   ]
  },
  {
   "cell_type": "markdown",
   "metadata": {},
   "source": [
    "Même problème que précédemment ici..."
   ]
  },
  {
   "cell_type": "markdown",
   "metadata": {},
   "source": [
    "On voit que la simulation suit la même tendance que l'espérance conditionnelle et les données. La simulation est également cohérante avec le sujet étudié qu'est le fond marin, car elle présente des irrégularités."
   ]
  },
  {
   "cell_type": "markdown",
   "metadata": {},
   "source": [
    "8. Ecrire une fonction qui calcule la longueur du câble en fonction du vecteur des profondeurs et du pas de discrétisation."
   ]
  },
  {
   "cell_type": "markdown",
   "metadata": {},
   "source": [
    "On applique la définition de la longuer de câble donnée par l'énoncé :\n",
    "$$l=\\sum_{i=1}^N\\sqrt{\\Delta^2+(z(x_i)-z(x_{i-1}))^2}.$$"
   ]
  },
  {
   "cell_type": "code",
   "execution_count": 11,
   "metadata": {},
   "outputs": [
    {
     "ename": "NameError",
     "evalue": "name 'Z' is not defined",
     "output_type": "error",
     "traceback": [
      "\u001b[0;31m---------------------------------------------------------------------------\u001b[0m",
      "\u001b[0;31mNameError\u001b[0m                                 Traceback (most recent call last)",
      "\u001b[0;32m<ipython-input-11-4f8f9290865c>\u001b[0m in \u001b[0;36m<module>\u001b[0;34m()\u001b[0m\n\u001b[1;32m      5\u001b[0m     \u001b[0;32mreturn\u001b[0m\u001b[0;34m(\u001b[0m\u001b[0ms\u001b[0m\u001b[0;34m)\u001b[0m\u001b[0;34m\u001b[0m\u001b[0;34m\u001b[0m\u001b[0m\n\u001b[1;32m      6\u001b[0m \u001b[0;34m\u001b[0m\u001b[0m\n\u001b[0;32m----> 7\u001b[0;31m \u001b[0ml\u001b[0m \u001b[0;34m=\u001b[0m \u001b[0mlongueur_cable\u001b[0m\u001b[0;34m(\u001b[0m\u001b[0mDelta\u001b[0m\u001b[0;34m,\u001b[0m \u001b[0mZ\u001b[0m\u001b[0;34m)\u001b[0m\u001b[0;34m\u001b[0m\u001b[0;34m\u001b[0m\u001b[0m\n\u001b[0m",
      "\u001b[0;31mNameError\u001b[0m: name 'Z' is not defined"
     ]
    }
   ],
   "source": [
    "def longueur_cable(delta, Z):\n",
    "    s = 0\n",
    "    for i in range(1, len(Z)):\n",
    "        s = s + np.sqrt(delta**2 + (Z[i]-Z[i-1])**2)\n",
    "    return(s)\n",
    "\n",
    "l = longueur_cable(Delta, Z)"
   ]
  },
  {
   "cell_type": "markdown",
   "metadata": {},
   "source": [
    "Puis, on prend en compte les simulations, avec la définition donnée dans l'énoncé :\n",
    "$$L=\\sum_{i=1}^N\\sqrt{\\Delta^2+(Z(x_i)-Z(x_{i-1}))^2},$$\n",
    "en notant $L$ la variable aléatoire donnant la longueur de câble nécéssaire."
   ]
  },
  {
   "cell_type": "code",
   "execution_count": 12,
   "metadata": {},
   "outputs": [
    {
     "ename": "NameError",
     "evalue": "name 'simul_cond' is not defined",
     "output_type": "error",
     "traceback": [
      "\u001b[0;31m---------------------------------------------------------------------------\u001b[0m",
      "\u001b[0;31mNameError\u001b[0m                                 Traceback (most recent call last)",
      "\u001b[0;32m<ipython-input-12-05ebe6e98d1e>\u001b[0m in \u001b[0;36m<module>\u001b[0;34m()\u001b[0m\n\u001b[1;32m      2\u001b[0m     \u001b[0;32mreturn\u001b[0m\u001b[0;34m(\u001b[0m\u001b[0mlongueur_cable\u001b[0m\u001b[0;34m(\u001b[0m\u001b[0mdelta\u001b[0m\u001b[0;34m,\u001b[0m \u001b[0msimul_cond\u001b[0m\u001b[0;34m(\u001b[0m\u001b[0;34m)\u001b[0m\u001b[0;34m)\u001b[0m\u001b[0;34m)\u001b[0m\u001b[0;34m\u001b[0m\u001b[0;34m\u001b[0m\u001b[0m\n\u001b[1;32m      3\u001b[0m \u001b[0;34m\u001b[0m\u001b[0m\n\u001b[0;32m----> 4\u001b[0;31m \u001b[0mL\u001b[0m \u001b[0;34m=\u001b[0m \u001b[0mestimation_longueur_cable\u001b[0m\u001b[0;34m(\u001b[0m\u001b[0mDelta\u001b[0m\u001b[0;34m)\u001b[0m\u001b[0;34m\u001b[0m\u001b[0;34m\u001b[0m\u001b[0m\n\u001b[0m\u001b[1;32m      5\u001b[0m \u001b[0mL\u001b[0m\u001b[0;34m\u001b[0m\u001b[0;34m\u001b[0m\u001b[0m\n",
      "\u001b[0;32m<ipython-input-12-05ebe6e98d1e>\u001b[0m in \u001b[0;36mestimation_longueur_cable\u001b[0;34m(delta)\u001b[0m\n\u001b[1;32m      1\u001b[0m \u001b[0;32mdef\u001b[0m \u001b[0mestimation_longueur_cable\u001b[0m\u001b[0;34m(\u001b[0m\u001b[0mdelta\u001b[0m\u001b[0;34m)\u001b[0m\u001b[0;34m:\u001b[0m\u001b[0;34m\u001b[0m\u001b[0;34m\u001b[0m\u001b[0m\n\u001b[0;32m----> 2\u001b[0;31m     \u001b[0;32mreturn\u001b[0m\u001b[0;34m(\u001b[0m\u001b[0mlongueur_cable\u001b[0m\u001b[0;34m(\u001b[0m\u001b[0mdelta\u001b[0m\u001b[0;34m,\u001b[0m \u001b[0msimul_cond\u001b[0m\u001b[0;34m(\u001b[0m\u001b[0;34m)\u001b[0m\u001b[0;34m)\u001b[0m\u001b[0;34m)\u001b[0m\u001b[0;34m\u001b[0m\u001b[0;34m\u001b[0m\u001b[0m\n\u001b[0m\u001b[1;32m      3\u001b[0m \u001b[0;34m\u001b[0m\u001b[0m\n\u001b[1;32m      4\u001b[0m \u001b[0mL\u001b[0m \u001b[0;34m=\u001b[0m \u001b[0mestimation_longueur_cable\u001b[0m\u001b[0;34m(\u001b[0m\u001b[0mDelta\u001b[0m\u001b[0;34m)\u001b[0m\u001b[0;34m\u001b[0m\u001b[0;34m\u001b[0m\u001b[0m\n\u001b[1;32m      5\u001b[0m \u001b[0mL\u001b[0m\u001b[0;34m\u001b[0m\u001b[0;34m\u001b[0m\u001b[0m\n",
      "\u001b[0;31mNameError\u001b[0m: name 'simul_cond' is not defined"
     ]
    }
   ],
   "source": [
    "def estimation_longueur_cable(delta):\n",
    "    return(longueur_cable(delta, simul_cond()))\n",
    "\n",
    "L = estimation_longueur_cable(Delta)\n",
    "L"
   ]
  },
  {
   "cell_type": "markdown",
   "metadata": {},
   "source": [
    "9. Utiliser cette fonction pour calculer la longueur du câble à partir de 100 simulations. Comparer l'espérance conditionnelle (estimée) de la longueur avec la longueur de l'espérance conditionnelle."
   ]
  },
  {
   "cell_type": "markdown",
   "metadata": {},
   "source": [
    "On va créer une fonction pour pouvoir ensuite l'appliquer sur d'autres simulations (comme ce qui est demandé à la question 14 de la partie pratique).\n",
    "La construction de la fonction nous permettra également de faire la question 10 de la partie théorique."
   ]
  },
  {
   "cell_type": "code",
   "execution_count": 13,
   "metadata": {},
   "outputs": [],
   "source": [
    "def simulation(n):\n",
    "    l = [] # liste qui va contenir les longueurs moyennes\n",
    "    # la longueur est calculée à chaque fois qu'on fait une simulation de plus\n",
    "    s = 0\n",
    "    for i in range(n):\n",
    "        s = s + estimation_longueur_cable(Delta)\n",
    "        l.append(s/(i+1))\n",
    "    return(l)"
   ]
  },
  {
   "cell_type": "code",
   "execution_count": 14,
   "metadata": {},
   "outputs": [
    {
     "ename": "NameError",
     "evalue": "name 'l_moycond' is not defined",
     "output_type": "error",
     "traceback": [
      "\u001b[0;31m---------------------------------------------------------------------------\u001b[0m",
      "\u001b[0;31mNameError\u001b[0m                                 Traceback (most recent call last)",
      "\u001b[0;32m<ipython-input-14-bfa57df531f6>\u001b[0m in \u001b[0;36m<module>\u001b[0;34m()\u001b[0m\n\u001b[1;32m      1\u001b[0m \u001b[0mn\u001b[0m \u001b[0;34m=\u001b[0m \u001b[0;36m100\u001b[0m\u001b[0;34m\u001b[0m\u001b[0;34m\u001b[0m\u001b[0m\n\u001b[1;32m      2\u001b[0m \u001b[0;34m\u001b[0m\u001b[0m\n\u001b[0;32m----> 3\u001b[0;31m \u001b[0mlongueur_conditionnelle\u001b[0m \u001b[0;34m=\u001b[0m \u001b[0mlongueur_cable\u001b[0m\u001b[0;34m(\u001b[0m\u001b[0mDelta\u001b[0m\u001b[0;34m,\u001b[0m \u001b[0ml_moycond\u001b[0m\u001b[0;34m)\u001b[0m\u001b[0;34m\u001b[0m\u001b[0;34m\u001b[0m\u001b[0m\n\u001b[0m\u001b[1;32m      4\u001b[0m \u001b[0mlongueur_moyenne_estimee\u001b[0m \u001b[0;34m=\u001b[0m \u001b[0msimulation\u001b[0m\u001b[0;34m(\u001b[0m\u001b[0mn\u001b[0m\u001b[0;34m)\u001b[0m\u001b[0;34m[\u001b[0m\u001b[0;34m-\u001b[0m\u001b[0;36m1\u001b[0m\u001b[0;34m]\u001b[0m \u001b[0;31m# on ne récupère que le dernier terme\u001b[0m\u001b[0;34m\u001b[0m\u001b[0;34m\u001b[0m\u001b[0m\n\u001b[1;32m      5\u001b[0m \u001b[0mecart\u001b[0m \u001b[0;34m=\u001b[0m \u001b[0mabs\u001b[0m\u001b[0;34m(\u001b[0m\u001b[0mlongueur_conditionnelle\u001b[0m \u001b[0;34m-\u001b[0m \u001b[0mlongueur_moyenne_estimee\u001b[0m\u001b[0;34m)\u001b[0m\u001b[0;34m\u001b[0m\u001b[0;34m\u001b[0m\u001b[0m\n",
      "\u001b[0;31mNameError\u001b[0m: name 'l_moycond' is not defined"
     ]
    }
   ],
   "source": [
    "n = 100\n",
    "\n",
    "longueur_conditionnelle = longueur_cable(Delta, l_moycond)\n",
    "longueur_moyenne_estimee = simulation(n)[-1] # on ne récupère que le dernier terme\n",
    "ecart = abs(longueur_conditionnelle - longueur_moyenne_estimee)\n",
    "\n",
    "print('Espérance conditionnelle (estimée) de la longueur : ' + longueur_moyenne_estimee)\n",
    "print(\"Longueur de l'espérance conditionnelle : \" + longueur_conditionnelle)\n",
    "print(\"Il y a un écart de \" + ecart + \"entre les deux longeurs.\")"
   ]
  },
  {
   "cell_type": "markdown",
   "metadata": {},
   "source": [
    "Si on répète la cellule plusieurs fois, on observe quasiment toujours les même valeurs, avec un écart presque constant."
   ]
  },
  {
   "cell_type": "markdown",
   "metadata": {},
   "source": [
    "10. Représenter la suite $M_n$ des moyennes des longueurs de câbles en fonction du nombre de simulations. Commenter."
   ]
  },
  {
   "cell_type": "code",
   "execution_count": 15,
   "metadata": {},
   "outputs": [
    {
     "ename": "NameError",
     "evalue": "name 'simul_cond' is not defined",
     "output_type": "error",
     "traceback": [
      "\u001b[0;31m---------------------------------------------------------------------------\u001b[0m",
      "\u001b[0;31mNameError\u001b[0m                                 Traceback (most recent call last)",
      "\u001b[0;32m<ipython-input-15-e0426c74ca59>\u001b[0m in \u001b[0;36m<module>\u001b[0;34m()\u001b[0m\n\u001b[1;32m      1\u001b[0m \u001b[0mnb_simul\u001b[0m \u001b[0;34m=\u001b[0m \u001b[0;34m[\u001b[0m\u001b[0mk\u001b[0m \u001b[0;32mfor\u001b[0m \u001b[0mk\u001b[0m \u001b[0;32min\u001b[0m \u001b[0mrange\u001b[0m\u001b[0;34m(\u001b[0m\u001b[0mn\u001b[0m\u001b[0;34m)\u001b[0m\u001b[0;34m]\u001b[0m\u001b[0;34m\u001b[0m\u001b[0;34m\u001b[0m\u001b[0m\n\u001b[0;32m----> 2\u001b[0;31m \u001b[0mMn\u001b[0m \u001b[0;34m=\u001b[0m \u001b[0msimulation\u001b[0m\u001b[0;34m(\u001b[0m\u001b[0mn\u001b[0m\u001b[0;34m)\u001b[0m\u001b[0;34m\u001b[0m\u001b[0;34m\u001b[0m\u001b[0m\n\u001b[0m\u001b[1;32m      3\u001b[0m \u001b[0;34m\u001b[0m\u001b[0m\n\u001b[1;32m      4\u001b[0m \u001b[0mplt\u001b[0m\u001b[0;34m.\u001b[0m\u001b[0mplot\u001b[0m\u001b[0;34m(\u001b[0m\u001b[0mnb_simul\u001b[0m\u001b[0;34m,\u001b[0m \u001b[0mMn\u001b[0m\u001b[0;34m)\u001b[0m\u001b[0;34m\u001b[0m\u001b[0;34m\u001b[0m\u001b[0m\n\u001b[1;32m      5\u001b[0m \u001b[0mplt\u001b[0m\u001b[0;34m.\u001b[0m\u001b[0mtitle\u001b[0m\u001b[0;34m(\u001b[0m\u001b[0;34m\"Représentation de la suite Mn\"\u001b[0m\u001b[0;34m)\u001b[0m\u001b[0;34m\u001b[0m\u001b[0;34m\u001b[0m\u001b[0m\n",
      "\u001b[0;32m<ipython-input-13-b87a4d378cc5>\u001b[0m in \u001b[0;36msimulation\u001b[0;34m(n)\u001b[0m\n\u001b[1;32m      4\u001b[0m     \u001b[0ms\u001b[0m \u001b[0;34m=\u001b[0m \u001b[0;36m0\u001b[0m\u001b[0;34m\u001b[0m\u001b[0;34m\u001b[0m\u001b[0m\n\u001b[1;32m      5\u001b[0m     \u001b[0;32mfor\u001b[0m \u001b[0mi\u001b[0m \u001b[0;32min\u001b[0m \u001b[0mrange\u001b[0m\u001b[0;34m(\u001b[0m\u001b[0mn\u001b[0m\u001b[0;34m)\u001b[0m\u001b[0;34m:\u001b[0m\u001b[0;34m\u001b[0m\u001b[0;34m\u001b[0m\u001b[0m\n\u001b[0;32m----> 6\u001b[0;31m         \u001b[0ms\u001b[0m \u001b[0;34m=\u001b[0m \u001b[0ms\u001b[0m \u001b[0;34m+\u001b[0m \u001b[0mestimation_longueur_cable\u001b[0m\u001b[0;34m(\u001b[0m\u001b[0mDelta\u001b[0m\u001b[0;34m)\u001b[0m\u001b[0;34m\u001b[0m\u001b[0;34m\u001b[0m\u001b[0m\n\u001b[0m\u001b[1;32m      7\u001b[0m         \u001b[0ml\u001b[0m\u001b[0;34m.\u001b[0m\u001b[0mappend\u001b[0m\u001b[0;34m(\u001b[0m\u001b[0ms\u001b[0m\u001b[0;34m/\u001b[0m\u001b[0;34m(\u001b[0m\u001b[0mi\u001b[0m\u001b[0;34m+\u001b[0m\u001b[0;36m1\u001b[0m\u001b[0;34m)\u001b[0m\u001b[0;34m)\u001b[0m\u001b[0;34m\u001b[0m\u001b[0;34m\u001b[0m\u001b[0m\n\u001b[1;32m      8\u001b[0m     \u001b[0;32mreturn\u001b[0m\u001b[0;34m(\u001b[0m\u001b[0ml\u001b[0m\u001b[0;34m)\u001b[0m\u001b[0;34m\u001b[0m\u001b[0;34m\u001b[0m\u001b[0m\n",
      "\u001b[0;32m<ipython-input-12-05ebe6e98d1e>\u001b[0m in \u001b[0;36mestimation_longueur_cable\u001b[0;34m(delta)\u001b[0m\n\u001b[1;32m      1\u001b[0m \u001b[0;32mdef\u001b[0m \u001b[0mestimation_longueur_cable\u001b[0m\u001b[0;34m(\u001b[0m\u001b[0mdelta\u001b[0m\u001b[0;34m)\u001b[0m\u001b[0;34m:\u001b[0m\u001b[0;34m\u001b[0m\u001b[0;34m\u001b[0m\u001b[0m\n\u001b[0;32m----> 2\u001b[0;31m     \u001b[0;32mreturn\u001b[0m\u001b[0;34m(\u001b[0m\u001b[0mlongueur_cable\u001b[0m\u001b[0;34m(\u001b[0m\u001b[0mdelta\u001b[0m\u001b[0;34m,\u001b[0m \u001b[0msimul_cond\u001b[0m\u001b[0;34m(\u001b[0m\u001b[0;34m)\u001b[0m\u001b[0;34m)\u001b[0m\u001b[0;34m)\u001b[0m\u001b[0;34m\u001b[0m\u001b[0;34m\u001b[0m\u001b[0m\n\u001b[0m\u001b[1;32m      3\u001b[0m \u001b[0;34m\u001b[0m\u001b[0m\n\u001b[1;32m      4\u001b[0m \u001b[0mL\u001b[0m \u001b[0;34m=\u001b[0m \u001b[0mestimation_longueur_cable\u001b[0m\u001b[0;34m(\u001b[0m\u001b[0mDelta\u001b[0m\u001b[0;34m)\u001b[0m\u001b[0;34m\u001b[0m\u001b[0;34m\u001b[0m\u001b[0m\n\u001b[1;32m      5\u001b[0m \u001b[0mL\u001b[0m\u001b[0;34m\u001b[0m\u001b[0;34m\u001b[0m\u001b[0m\n",
      "\u001b[0;31mNameError\u001b[0m: name 'simul_cond' is not defined"
     ]
    }
   ],
   "source": [
    "nb_simul = [k for k in range(n)]\n",
    "Mn = simulation(n)\n",
    "\n",
    "plt.plot(nb_simul, Mn)\n",
    "plt.title(\"Représentation de la suite Mn\")\n",
    "plt.xlabel(\"n\")\n",
    "plt.show()"
   ]
  },
  {
   "cell_type": "markdown",
   "metadata": {},
   "source": [
    "11. Représenter l'histogramme des longueurs de câbles générées."
   ]
  },
  {
   "cell_type": "code",
   "execution_count": 16,
   "metadata": {},
   "outputs": [
    {
     "ename": "NameError",
     "evalue": "name 'simul_cond' is not defined",
     "output_type": "error",
     "traceback": [
      "\u001b[0;31m---------------------------------------------------------------------------\u001b[0m",
      "\u001b[0;31mNameError\u001b[0m                                 Traceback (most recent call last)",
      "\u001b[0;32m<ipython-input-16-8f6c66d1c28d>\u001b[0m in \u001b[0;36m<module>\u001b[0;34m()\u001b[0m\n\u001b[0;32m----> 1\u001b[0;31m \u001b[0mlongueur_cables_generees\u001b[0m \u001b[0;34m=\u001b[0m \u001b[0;34m[\u001b[0m\u001b[0mestimation_longueur_cable\u001b[0m\u001b[0;34m(\u001b[0m\u001b[0mDelta\u001b[0m\u001b[0;34m)\u001b[0m \u001b[0;32mfor\u001b[0m \u001b[0mk\u001b[0m \u001b[0;32min\u001b[0m \u001b[0mrange\u001b[0m\u001b[0;34m(\u001b[0m\u001b[0mn\u001b[0m\u001b[0;34m)\u001b[0m\u001b[0;34m]\u001b[0m\u001b[0;34m\u001b[0m\u001b[0;34m\u001b[0m\u001b[0m\n\u001b[0m\u001b[1;32m      2\u001b[0m \u001b[0;34m\u001b[0m\u001b[0m\n\u001b[1;32m      3\u001b[0m \u001b[0mlongueurs_cables_triees\u001b[0m \u001b[0;34m=\u001b[0m \u001b[0mlongueur_cables_generees\u001b[0m\u001b[0;34m.\u001b[0m\u001b[0msort\u001b[0m\u001b[0;34m(\u001b[0m\u001b[0;34m)\u001b[0m\u001b[0;34m\u001b[0m\u001b[0;34m\u001b[0m\u001b[0m\n\u001b[1;32m      4\u001b[0m \u001b[0mmini\u001b[0m \u001b[0;34m=\u001b[0m \u001b[0mmin\u001b[0m\u001b[0;34m(\u001b[0m\u001b[0mlongueurs_cables_triees\u001b[0m\u001b[0;34m)\u001b[0m\u001b[0;34m\u001b[0m\u001b[0;34m\u001b[0m\u001b[0m\n\u001b[1;32m      5\u001b[0m \u001b[0mmaxi\u001b[0m \u001b[0;34m=\u001b[0m \u001b[0mmax\u001b[0m\u001b[0;34m(\u001b[0m\u001b[0mlongueurs_cables_triees\u001b[0m\u001b[0;34m)\u001b[0m\u001b[0;34m\u001b[0m\u001b[0;34m\u001b[0m\u001b[0m\n",
      "\u001b[0;32m<ipython-input-16-8f6c66d1c28d>\u001b[0m in \u001b[0;36m<listcomp>\u001b[0;34m(.0)\u001b[0m\n\u001b[0;32m----> 1\u001b[0;31m \u001b[0mlongueur_cables_generees\u001b[0m \u001b[0;34m=\u001b[0m \u001b[0;34m[\u001b[0m\u001b[0mestimation_longueur_cable\u001b[0m\u001b[0;34m(\u001b[0m\u001b[0mDelta\u001b[0m\u001b[0;34m)\u001b[0m \u001b[0;32mfor\u001b[0m \u001b[0mk\u001b[0m \u001b[0;32min\u001b[0m \u001b[0mrange\u001b[0m\u001b[0;34m(\u001b[0m\u001b[0mn\u001b[0m\u001b[0;34m)\u001b[0m\u001b[0;34m]\u001b[0m\u001b[0;34m\u001b[0m\u001b[0;34m\u001b[0m\u001b[0m\n\u001b[0m\u001b[1;32m      2\u001b[0m \u001b[0;34m\u001b[0m\u001b[0m\n\u001b[1;32m      3\u001b[0m \u001b[0mlongueurs_cables_triees\u001b[0m \u001b[0;34m=\u001b[0m \u001b[0mlongueur_cables_generees\u001b[0m\u001b[0;34m.\u001b[0m\u001b[0msort\u001b[0m\u001b[0;34m(\u001b[0m\u001b[0;34m)\u001b[0m\u001b[0;34m\u001b[0m\u001b[0;34m\u001b[0m\u001b[0m\n\u001b[1;32m      4\u001b[0m \u001b[0mmini\u001b[0m \u001b[0;34m=\u001b[0m \u001b[0mmin\u001b[0m\u001b[0;34m(\u001b[0m\u001b[0mlongueurs_cables_triees\u001b[0m\u001b[0;34m)\u001b[0m\u001b[0;34m\u001b[0m\u001b[0;34m\u001b[0m\u001b[0m\n\u001b[1;32m      5\u001b[0m \u001b[0mmaxi\u001b[0m \u001b[0;34m=\u001b[0m \u001b[0mmax\u001b[0m\u001b[0;34m(\u001b[0m\u001b[0mlongueurs_cables_triees\u001b[0m\u001b[0;34m)\u001b[0m\u001b[0;34m\u001b[0m\u001b[0;34m\u001b[0m\u001b[0m\n",
      "\u001b[0;32m<ipython-input-12-05ebe6e98d1e>\u001b[0m in \u001b[0;36mestimation_longueur_cable\u001b[0;34m(delta)\u001b[0m\n\u001b[1;32m      1\u001b[0m \u001b[0;32mdef\u001b[0m \u001b[0mestimation_longueur_cable\u001b[0m\u001b[0;34m(\u001b[0m\u001b[0mdelta\u001b[0m\u001b[0;34m)\u001b[0m\u001b[0;34m:\u001b[0m\u001b[0;34m\u001b[0m\u001b[0;34m\u001b[0m\u001b[0m\n\u001b[0;32m----> 2\u001b[0;31m     \u001b[0;32mreturn\u001b[0m\u001b[0;34m(\u001b[0m\u001b[0mlongueur_cable\u001b[0m\u001b[0;34m(\u001b[0m\u001b[0mdelta\u001b[0m\u001b[0;34m,\u001b[0m \u001b[0msimul_cond\u001b[0m\u001b[0;34m(\u001b[0m\u001b[0;34m)\u001b[0m\u001b[0;34m)\u001b[0m\u001b[0;34m)\u001b[0m\u001b[0;34m\u001b[0m\u001b[0;34m\u001b[0m\u001b[0m\n\u001b[0m\u001b[1;32m      3\u001b[0m \u001b[0;34m\u001b[0m\u001b[0m\n\u001b[1;32m      4\u001b[0m \u001b[0mL\u001b[0m \u001b[0;34m=\u001b[0m \u001b[0mestimation_longueur_cable\u001b[0m\u001b[0;34m(\u001b[0m\u001b[0mDelta\u001b[0m\u001b[0;34m)\u001b[0m\u001b[0;34m\u001b[0m\u001b[0;34m\u001b[0m\u001b[0m\n\u001b[1;32m      5\u001b[0m \u001b[0mL\u001b[0m\u001b[0;34m\u001b[0m\u001b[0;34m\u001b[0m\u001b[0m\n",
      "\u001b[0;31mNameError\u001b[0m: name 'simul_cond' is not defined"
     ]
    }
   ],
   "source": [
    "longueur_cables_generees = [estimation_longueur_cable(Delta) for k in range(n)]\n",
    "\n",
    "longueurs_cables_triees = longueur_cables_generees.sort()\n",
    "mini = min(longueurs_cables_triees)\n",
    "maxi = max(longueurs_cables_triees)\n",
    "\n",
    "plt.hist(longueurs_cables_triees, range = (mini, maxi), bins = 10)\n",
    "plt.xlabel(\"Longueur (en m)\")\n",
    "plt.ylabel(\"Nombre d'occurences\")\n",
    "plt.title(\"Histogramme des longueurs de câbles générées pour \"+ n + \" simulations\")\n",
    "plt.show()"
   ]
  },
  {
   "cell_type": "markdown",
   "metadata": {},
   "source": [
    "Il semble que la loi régissant les longueurs se rapporche d'une loi normale."
   ]
  },
  {
   "cell_type": "markdown",
   "metadata": {},
   "source": [
    "12. Donner un intervalle de confiance à 95% de la longueur du câble par 2 méthodes différentes. Commenter."
   ]
  },
  {
   "cell_type": "markdown",
   "metadata": {},
   "source": [
    "- Méthode 1 :\n",
    "\n",
    "On exploite la remarque de la question précédente en approximant la loi relative à la longueur par une loi gaussienne de moyenne $\\mu$ et d'écart-type $\\sigma$ à déterminer.\n",
    "On sait alors que l'intervalle de confiance de l'espérance $\\mu$ à 95% est défini par\n",
    "$$I_{95} = \\left[\\mu - 2\\frac{\\sigma}{\\sqrt n} ; \\mu + 2\\frac{\\sigma}{\\sqrt n}\\right]$$ où $n$ correspond à l'échantillon (ici répétitions), avec $n > 100$ (ici $n = 100$)."
   ]
  },
  {
   "cell_type": "code",
   "execution_count": 17,
   "metadata": {},
   "outputs": [],
   "source": [
    "def moyvar(X):\n",
    "    s = 0\n",
    "    s2 = 0\n",
    "    x = len(X)\n",
    "    for i in range(x):\n",
    "        s = s + X[i]\n",
    "        s2 = s2 + X[i]**2\n",
    "    moy = s/x\n",
    "    moy2 = s2/x\n",
    "    var = moy2 - moy**2\n",
    "    ecarttype = np.sqrt(var)\n",
    "    return(moy, ecarttype)"
   ]
  },
  {
   "cell_type": "code",
   "execution_count": 18,
   "metadata": {},
   "outputs": [
    {
     "ename": "NameError",
     "evalue": "name 'simul_cond' is not defined",
     "output_type": "error",
     "traceback": [
      "\u001b[0;31m---------------------------------------------------------------------------\u001b[0m",
      "\u001b[0;31mNameError\u001b[0m                                 Traceback (most recent call last)",
      "\u001b[0;32m<ipython-input-18-bf8536fea19a>\u001b[0m in \u001b[0;36m<module>\u001b[0;34m()\u001b[0m\n\u001b[1;32m      1\u001b[0m \u001b[0mliste_longueur_cable\u001b[0m \u001b[0;34m=\u001b[0m \u001b[0;34m[\u001b[0m\u001b[0;34m]\u001b[0m\u001b[0;34m\u001b[0m\u001b[0;34m\u001b[0m\u001b[0m\n\u001b[1;32m      2\u001b[0m \u001b[0;32mfor\u001b[0m \u001b[0mi\u001b[0m \u001b[0;32min\u001b[0m \u001b[0mrange\u001b[0m\u001b[0;34m(\u001b[0m\u001b[0mn\u001b[0m\u001b[0;34m)\u001b[0m\u001b[0;34m:\u001b[0m\u001b[0;34m\u001b[0m\u001b[0;34m\u001b[0m\u001b[0m\n\u001b[0;32m----> 3\u001b[0;31m     \u001b[0mliste_longueur_cable\u001b[0m\u001b[0;34m.\u001b[0m\u001b[0mappend\u001b[0m\u001b[0;34m(\u001b[0m\u001b[0mestimation_longueur_cable\u001b[0m\u001b[0;34m(\u001b[0m\u001b[0mDelta\u001b[0m\u001b[0;34m)\u001b[0m\u001b[0;34m)\u001b[0m\u001b[0;34m\u001b[0m\u001b[0;34m\u001b[0m\u001b[0m\n\u001b[0m\u001b[1;32m      4\u001b[0m \u001b[0;34m\u001b[0m\u001b[0m\n\u001b[1;32m      5\u001b[0m \u001b[0mmu1\u001b[0m \u001b[0;34m=\u001b[0m \u001b[0mmoyvar\u001b[0m\u001b[0;34m(\u001b[0m\u001b[0mliste_longueur_cable\u001b[0m\u001b[0;34m)\u001b[0m\u001b[0;34m[\u001b[0m\u001b[0;36m0\u001b[0m\u001b[0;34m]\u001b[0m\u001b[0;34m\u001b[0m\u001b[0;34m\u001b[0m\u001b[0m\n",
      "\u001b[0;32m<ipython-input-12-05ebe6e98d1e>\u001b[0m in \u001b[0;36mestimation_longueur_cable\u001b[0;34m(delta)\u001b[0m\n\u001b[1;32m      1\u001b[0m \u001b[0;32mdef\u001b[0m \u001b[0mestimation_longueur_cable\u001b[0m\u001b[0;34m(\u001b[0m\u001b[0mdelta\u001b[0m\u001b[0;34m)\u001b[0m\u001b[0;34m:\u001b[0m\u001b[0;34m\u001b[0m\u001b[0;34m\u001b[0m\u001b[0m\n\u001b[0;32m----> 2\u001b[0;31m     \u001b[0;32mreturn\u001b[0m\u001b[0;34m(\u001b[0m\u001b[0mlongueur_cable\u001b[0m\u001b[0;34m(\u001b[0m\u001b[0mdelta\u001b[0m\u001b[0;34m,\u001b[0m \u001b[0msimul_cond\u001b[0m\u001b[0;34m(\u001b[0m\u001b[0;34m)\u001b[0m\u001b[0;34m)\u001b[0m\u001b[0;34m)\u001b[0m\u001b[0;34m\u001b[0m\u001b[0;34m\u001b[0m\u001b[0m\n\u001b[0m\u001b[1;32m      3\u001b[0m \u001b[0;34m\u001b[0m\u001b[0m\n\u001b[1;32m      4\u001b[0m \u001b[0mL\u001b[0m \u001b[0;34m=\u001b[0m \u001b[0mestimation_longueur_cable\u001b[0m\u001b[0;34m(\u001b[0m\u001b[0mDelta\u001b[0m\u001b[0;34m)\u001b[0m\u001b[0;34m\u001b[0m\u001b[0;34m\u001b[0m\u001b[0m\n\u001b[1;32m      5\u001b[0m \u001b[0mL\u001b[0m\u001b[0;34m\u001b[0m\u001b[0;34m\u001b[0m\u001b[0m\n",
      "\u001b[0;31mNameError\u001b[0m: name 'simul_cond' is not defined"
     ]
    }
   ],
   "source": [
    "liste_longueur_cable = []\n",
    "for i in range(n):\n",
    "    liste_longueur_cable.append(estimation_longueur_cable(Delta))\n",
    "\n",
    "mu1 = moyvar(liste_longueur_cable)[0]\n",
    "sigma1 = moyvar(liste_longueur_cable)[1]\n",
    "\n",
    "borneinf = mu1-2*sigma1/np.sqrt(n)\n",
    "bornesup = mu1+2*sigma1/np.sqrt(n)\n",
    "intervalle1 = [borneinf, bornesup]\n",
    "\n",
    "print(\"L'intervalle de confiance à 95% par la première méthode est : \" + intervalle1)"
   ]
  },
  {
   "cell_type": "markdown",
   "metadata": {},
   "source": [
    "- Méthode 2 :\n",
    "\n",
    "On va regarder toutes les valeurs de longueurs générées (c'est plus simple si la liste est déjà triée) et ensuite prendre l'intervalle telle que 95% des données soient dedans.\n",
    "On peut le faire de plusieurs façons :\n",
    "- partir de la valeur médiane de la liste pour élargir sur les côtés\n",
    "- considéré les valeurs des extrémités à supprimer (2,5% se trouve \"sur la gauche\" (ou ce sont les 2,5% des valeurs les plus petites) et 2,5% se trouve \"sur la droite\" (ou ce sont les 2,5% des valeurs les plus élevées)\n",
    "- et bien d'autres (paritr des extrémités et restreindre, partir non plus de la médiane mais de la moyenne...)\n",
    "\n",
    "On choisit ici de faire la deuxième méthode."
   ]
  },
  {
   "cell_type": "code",
   "execution_count": 20,
   "metadata": {},
   "outputs": [
    {
     "ename": "IndexError",
     "evalue": "list index out of range",
     "output_type": "error",
     "traceback": [
      "\u001b[0;31m---------------------------------------------------------------------------\u001b[0m",
      "\u001b[0;31mIndexError\u001b[0m                                Traceback (most recent call last)",
      "\u001b[0;32m<ipython-input-20-b078a8f61a62>\u001b[0m in \u001b[0;36m<module>\u001b[0;34m()\u001b[0m\n\u001b[1;32m      1\u001b[0m \u001b[0mextremiteinf\u001b[0m \u001b[0;34m=\u001b[0m \u001b[0mint\u001b[0m\u001b[0;34m(\u001b[0m\u001b[0;36m0.025\u001b[0m \u001b[0;34m*\u001b[0m \u001b[0mn\u001b[0m\u001b[0;34m)\u001b[0m\u001b[0;34m\u001b[0m\u001b[0;34m\u001b[0m\u001b[0m\n\u001b[1;32m      2\u001b[0m \u001b[0mextremitesup\u001b[0m \u001b[0;34m=\u001b[0m \u001b[0mint\u001b[0m\u001b[0;34m(\u001b[0m\u001b[0;36m0.975\u001b[0m \u001b[0;34m*\u001b[0m \u001b[0mn\u001b[0m\u001b[0;34m)\u001b[0m\u001b[0;34m\u001b[0m\u001b[0;34m\u001b[0m\u001b[0m\n\u001b[0;32m----> 3\u001b[0;31m \u001b[0mintervalle2\u001b[0m \u001b[0;34m=\u001b[0m \u001b[0;34m[\u001b[0m\u001b[0mliste_longueur_cable\u001b[0m\u001b[0;34m[\u001b[0m\u001b[0mextremiteinf\u001b[0m\u001b[0;34m]\u001b[0m\u001b[0;34m,\u001b[0m \u001b[0mliste_longueur_cable\u001b[0m\u001b[0;34m[\u001b[0m\u001b[0mextremitesup\u001b[0m\u001b[0;34m]\u001b[0m\u001b[0;34m]\u001b[0m\u001b[0;34m\u001b[0m\u001b[0;34m\u001b[0m\u001b[0m\n\u001b[0m\u001b[1;32m      4\u001b[0m \u001b[0;34m\u001b[0m\u001b[0m\n\u001b[1;32m      5\u001b[0m \u001b[0mprint\u001b[0m\u001b[0;34m(\u001b[0m\u001b[0;34m\"L'intervalle de confiance à 95% par la seconde méthode est : \"\u001b[0m \u001b[0;34m+\u001b[0m \u001b[0mintervalle2\u001b[0m\u001b[0;34m)\u001b[0m\u001b[0;34m\u001b[0m\u001b[0;34m\u001b[0m\u001b[0m\n",
      "\u001b[0;31mIndexError\u001b[0m: list index out of range"
     ]
    }
   ],
   "source": [
    "extremiteinf = int(0.025 * n)\n",
    "extremitesup = int(0.975 * n)\n",
    "intervalle2 = [liste_longueur_cable[extremiteinf], liste_longueur_cable[extremitesup]]\n",
    "\n",
    "print(\"L'intervalle de confiance à 95% par la seconde méthode est : \" + intervalle2)"
   ]
  },
  {
   "cell_type": "markdown",
   "metadata": {},
   "source": [
    "On peut se poser la question de la pertinance de l'intervalle de confiance évalué avec la première méthode qui utilise une approximation par une loi de Gauss : on a ici $n = 100$ alors qu'elle est généralement valable pour $n > 100$ (voire $n\\gg100$)."
   ]
  },
  {
   "cell_type": "markdown",
   "metadata": {},
   "source": [
    "13. Donner une estimation de la probabilité que la longueur du câble dépasse 525 m."
   ]
  },
  {
   "cell_type": "code",
   "execution_count": 21,
   "metadata": {},
   "outputs": [],
   "source": [
    "def probabilite(l):\n",
    "    s = 0\n",
    "    for i in range(len(l)):\n",
    "        if l[i] > 525 :\n",
    "            s = s + 1\n",
    "    p = s/len(l)\n",
    "    return(p)"
   ]
  },
  {
   "cell_type": "code",
   "execution_count": 22,
   "metadata": {},
   "outputs": [
    {
     "ename": "ZeroDivisionError",
     "evalue": "division by zero",
     "output_type": "error",
     "traceback": [
      "\u001b[0;31m---------------------------------------------------------------------------\u001b[0m",
      "\u001b[0;31mZeroDivisionError\u001b[0m                         Traceback (most recent call last)",
      "\u001b[0;32m<ipython-input-22-e6ea847bda17>\u001b[0m in \u001b[0;36m<module>\u001b[0;34m()\u001b[0m\n\u001b[0;32m----> 1\u001b[0;31m \u001b[0mp\u001b[0m \u001b[0;34m=\u001b[0m \u001b[0mprobabilite\u001b[0m\u001b[0;34m(\u001b[0m\u001b[0mliste_longueur_cable\u001b[0m\u001b[0;34m)\u001b[0m\u001b[0;34m\u001b[0m\u001b[0;34m\u001b[0m\u001b[0m\n\u001b[0m\u001b[1;32m      2\u001b[0m \u001b[0mprint\u001b[0m\u001b[0;34m(\u001b[0m\u001b[0;34m\"Une estimation de la probabilité demandée est\"\u001b[0m \u001b[0;34m+\u001b[0m \u001b[0mp\u001b[0m\u001b[0;34m)\u001b[0m\u001b[0;34m\u001b[0m\u001b[0;34m\u001b[0m\u001b[0m\n",
      "\u001b[0;32m<ipython-input-21-22419b6bbfa7>\u001b[0m in \u001b[0;36mprobabilite\u001b[0;34m(l)\u001b[0m\n\u001b[1;32m      4\u001b[0m         \u001b[0;32mif\u001b[0m \u001b[0ml\u001b[0m\u001b[0;34m[\u001b[0m\u001b[0mi\u001b[0m\u001b[0;34m]\u001b[0m \u001b[0;34m>\u001b[0m \u001b[0;36m525\u001b[0m \u001b[0;34m:\u001b[0m\u001b[0;34m\u001b[0m\u001b[0;34m\u001b[0m\u001b[0m\n\u001b[1;32m      5\u001b[0m             \u001b[0ms\u001b[0m \u001b[0;34m=\u001b[0m \u001b[0ms\u001b[0m \u001b[0;34m+\u001b[0m \u001b[0;36m1\u001b[0m\u001b[0;34m\u001b[0m\u001b[0;34m\u001b[0m\u001b[0m\n\u001b[0;32m----> 6\u001b[0;31m     \u001b[0mp\u001b[0m \u001b[0;34m=\u001b[0m \u001b[0ms\u001b[0m\u001b[0;34m/\u001b[0m\u001b[0mlen\u001b[0m\u001b[0;34m(\u001b[0m\u001b[0ml\u001b[0m\u001b[0;34m)\u001b[0m\u001b[0;34m\u001b[0m\u001b[0;34m\u001b[0m\u001b[0m\n\u001b[0m\u001b[1;32m      7\u001b[0m     \u001b[0;32mreturn\u001b[0m\u001b[0;34m(\u001b[0m\u001b[0mp\u001b[0m\u001b[0;34m)\u001b[0m\u001b[0;34m\u001b[0m\u001b[0;34m\u001b[0m\u001b[0m\n",
      "\u001b[0;31mZeroDivisionError\u001b[0m: division by zero"
     ]
    }
   ],
   "source": [
    "p = probabilite(liste_longueur_cable)\n",
    "print(\"Une estimation de la probabilité demandée est\" + p)"
   ]
  },
  {
   "cell_type": "markdown",
   "metadata": {},
   "source": [
    "14. Reprendre les questions précédentes avec 1000, 10000 puis 100000 simulations. Commenter."
   ]
  },
  {
   "cell_type": "markdown",
   "metadata": {},
   "source": [
    "#### Pour 1000 simulations"
   ]
  },
  {
   "cell_type": "code",
   "execution_count": null,
   "metadata": {},
   "outputs": [],
   "source": [
    "n = 1000"
   ]
  },
  {
   "cell_type": "code",
   "execution_count": null,
   "metadata": {},
   "outputs": [],
   "source": [
    "longueur_moyenne_estimee = simulation(n)[-1] # on ne récupère que le dernier terme\n",
    "ecart = abs(longueur_conditionnelle - longueur_moyenne_estimee)\n",
    "\n",
    "print('Espérance conditionnelle (estimée) de la longueur : ' + longueur_moyenne_estimee)\n",
    "print(\"Longueur de l'espérance conditionnelle : \" + longueur_conditionnelle)\n",
    "print(\"Il y a un écart de \" + ecart + \"entre les deux longeurs.\")"
   ]
  },
  {
   "cell_type": "code",
   "execution_count": null,
   "metadata": {},
   "outputs": [],
   "source": [
    "nb_simul = [k for k in range(n)]\n",
    "Mn = simulation(n)\n",
    "\n",
    "plt.plot(nb_simul, Mn)\n",
    "plt.title(\"Représentation de la suite Mn\")\n",
    "plt.xlabel(\"n\")\n",
    "plt.show()"
   ]
  },
  {
   "cell_type": "code",
   "execution_count": null,
   "metadata": {},
   "outputs": [],
   "source": [
    "longueur_cables_generees = [estimation_longueur_cable(Delta) for k in range(n)]\n",
    "\n",
    "longueurs_cables_triees = longueur_cables_generees.sort()\n",
    "mini = min(longueurs_cables_triees)\n",
    "maxi = max(longueurs_cables_triees)\n",
    "\n",
    "plt.hist(longueurs_cables_triees, range = (mini, maxi), bins = 10)\n",
    "plt.xlabel(\"Longueur (en m)\")\n",
    "plt.ylabel(\"Nombre d'occurences\")\n",
    "plt.title(\"Histogramme des longueurs de câbles générées pour \"+ n + \" simulations\")\n",
    "plt.show()"
   ]
  },
  {
   "cell_type": "code",
   "execution_count": null,
   "metadata": {},
   "outputs": [],
   "source": [
    "liste_longueur_cable = []\n",
    "for i in range(n):\n",
    "    liste_longueur_cable.append(estimation_longueur_cable(Delta))\n",
    "\n",
    "mu1 = moyvar(liste_longueur_cable)[0]\n",
    "sigma1 = moyvar(liste_longueur_cable)[1]\n",
    "\n",
    "borneinf = mu1-2*sigma1/np.sqrt(n)\n",
    "bornesup = mu1+2*sigma1/np.sqrt(n)\n",
    "intervalle1 = [borneinf, bornesup]\n",
    "\n",
    "print(\"L'intervalle de confiance à 95% par la première méthode est : \" + intervalle1)"
   ]
  },
  {
   "cell_type": "code",
   "execution_count": null,
   "metadata": {},
   "outputs": [],
   "source": [
    "extremiteinf = int(0.025 * n)\n",
    "extremitesup = int(0.075 * n)\n",
    "intervalle2 = [liste_longueur_cable[extremiteinf], liste_longueur_cable[extremitesup]]\n",
    "\n",
    "print(\"L'intervalle de confiance à 95% par la seconde méthode est : \" + intervalle2)"
   ]
  },
  {
   "cell_type": "code",
   "execution_count": null,
   "metadata": {},
   "outputs": [],
   "source": [
    "p = probabilite(liste_longueur_cable)\n",
    "print(\"Une estimation de la probabilité demandée est\" + p)"
   ]
  },
  {
   "cell_type": "markdown",
   "metadata": {},
   "source": [
    "#### Pour 10000 simulations"
   ]
  },
  {
   "cell_type": "code",
   "execution_count": null,
   "metadata": {},
   "outputs": [],
   "source": [
    "n = 10000"
   ]
  },
  {
   "cell_type": "code",
   "execution_count": null,
   "metadata": {},
   "outputs": [],
   "source": [
    "longueur_moyenne_estimee = simulation(n)[-1] # on ne récupère que le dernier terme\n",
    "ecart = abs(longueur_conditionnelle - longueur_moyenne_estimee)\n",
    "\n",
    "print('Espérance conditionnelle (estimée) de la longueur : ' + longueur_moyenne_estimee)\n",
    "print(\"Longueur de l'espérance conditionnelle : \" + longueur_conditionnelle)\n",
    "print(\"Il y a un écart de \" + ecart + \"entre les deux longeurs.\")"
   ]
  },
  {
   "cell_type": "code",
   "execution_count": null,
   "metadata": {},
   "outputs": [],
   "source": [
    "nb_simul = [k for k in range(n)]\n",
    "Mn = simulation(n)\n",
    "\n",
    "plt.plot(nb_simul, Mn)\n",
    "plt.title(\"Représentation de la suite Mn\")\n",
    "plt.xlabel(\"n\")\n",
    "plt.show()"
   ]
  },
  {
   "cell_type": "code",
   "execution_count": null,
   "metadata": {},
   "outputs": [],
   "source": [
    "longueur_cables_generees = [estimation_longueur_cable(Delta) for k in range(n)]\n",
    "\n",
    "longueurs_cables_triees = longueur_cables_generees.sort()\n",
    "mini = min(longueurs_cables_triees)\n",
    "maxi = max(longueurs_cables_triees)\n",
    "\n",
    "plt.hist(longueurs_cables_triees, range = (mini, maxi), bins = 10)\n",
    "plt.xlabel(\"Longueur (en m)\")\n",
    "plt.ylabel(\"Nombre d'occurences\")\n",
    "plt.title(\"Histogramme des longueurs de câbles générées pour \"+ n + \" simulations\")\n",
    "plt.show()"
   ]
  },
  {
   "cell_type": "code",
   "execution_count": null,
   "metadata": {},
   "outputs": [],
   "source": [
    "liste_longueur_cable = []\n",
    "for i in range(n):\n",
    "    liste_longueur_cable.append(estimation_longueur_cable(Delta))\n",
    "\n",
    "mu1 = moyvar(liste_longueur_cable)[0]\n",
    "sigma1 = moyvar(liste_longueur_cable)[1]\n",
    "\n",
    "borneinf = mu1-2*sigma1/np.sqrt(n)\n",
    "bornesup = mu1+2*sigma1/np.sqrt(n)\n",
    "intervalle1 = [borneinf, bornesup]\n",
    "\n",
    "print(\"L'intervalle de confiance à 95% par la première méthode est : \" + intervalle1)"
   ]
  },
  {
   "cell_type": "code",
   "execution_count": null,
   "metadata": {},
   "outputs": [],
   "source": [
    "extremiteinf = int(0.025 * n)\n",
    "extremitesup = int(0.075 * n)\n",
    "intervalle2 = [liste_longueur_cable[extremiteinf], liste_longueur_cable[extremitesup]]\n",
    "\n",
    "print(\"L'intervalle de confiance à 95% par la seconde méthode est : \" + intervalle2)"
   ]
  },
  {
   "cell_type": "code",
   "execution_count": null,
   "metadata": {},
   "outputs": [],
   "source": [
    "p = probabilite(liste_longueur_cable)\n",
    "print(\"Une estimation de la probabilité demandée est\" + p)"
   ]
  },
  {
   "cell_type": "markdown",
   "metadata": {},
   "source": [
    "#### Pour 100000 simulations"
   ]
  },
  {
   "cell_type": "code",
   "execution_count": null,
   "metadata": {},
   "outputs": [],
   "source": [
    "n = 100000"
   ]
  },
  {
   "cell_type": "code",
   "execution_count": null,
   "metadata": {},
   "outputs": [],
   "source": [
    "longueur_moyenne_estimee = simulation(n)[-1] # on ne récupère que le dernier terme\n",
    "ecart = abs(longueur_conditionnelle - longueur_moyenne_estimee)\n",
    "\n",
    "print('Espérance conditionnelle (estimée) de la longueur : ' + longueur_moyenne_estimee)\n",
    "print(\"Longueur de l'espérance conditionnelle : \" + longueur_conditionnelle)\n",
    "print(\"Il y a un écart de \" + ecart + \"entre les deux longeurs.\")"
   ]
  },
  {
   "cell_type": "code",
   "execution_count": null,
   "metadata": {},
   "outputs": [],
   "source": [
    "nb_simul = [k for k in range(n)]\n",
    "Mn = simulation(n)\n",
    "\n",
    "plt.plot(nb_simul, Mn)\n",
    "plt.title(\"Représentation de la suite Mn\")\n",
    "plt.xlabel(\"n\")\n",
    "plt.show()"
   ]
  },
  {
   "cell_type": "code",
   "execution_count": null,
   "metadata": {},
   "outputs": [],
   "source": [
    "longueur_cables_generees = [estimation_longueur_cable(Delta) for k in range(n)]\n",
    "\n",
    "longueurs_cables_triees = longueur_cables_generees.sort()\n",
    "mini = min(longueurs_cables_triees)\n",
    "maxi = max(longueurs_cables_triees)\n",
    "\n",
    "plt.hist(longueurs_cables_triees, range = (mini, maxi), bins = 10)\n",
    "plt.xlabel(\"Longueur (en m)\")\n",
    "plt.ylabel(\"Nombre d'occurences\")\n",
    "plt.title(\"Histogramme des longueurs de câbles générées pour \"+ n + \" simulations\")\n",
    "plt.show()"
   ]
  },
  {
   "cell_type": "code",
   "execution_count": null,
   "metadata": {},
   "outputs": [],
   "source": [
    "liste_longueur_cable = []\n",
    "for i in range(n):\n",
    "    liste_longueur_cable.append(estimation_longueur_cable(Delta))\n",
    "\n",
    "mu1 = moyvar(liste_longueur_cable)[0]\n",
    "sigma1 = moyvar(liste_longueur_cable)[1]\n",
    "\n",
    "borneinf = mu1-2*sigma1/np.sqrt(n)\n",
    "bornesup = mu1+2*sigma1/np.sqrt(n)\n",
    "intervalle1 = [borneinf, bornesup]\n",
    "\n",
    "print(\"L'intervalle de confiance à 95% par la première méthode est : \" + intervalle1)"
   ]
  },
  {
   "cell_type": "code",
   "execution_count": null,
   "metadata": {},
   "outputs": [],
   "source": [
    "extremiteinf = int(0.025 * n)\n",
    "extremitesup = int(0.075 * n)\n",
    "intervalle2 = [liste_longueur_cable[extremiteinf], liste_longueur_cable[extremitesup]]\n",
    "\n",
    "print(\"L'intervalle de confiance à 95% par la seconde méthode est : \" + intervalle2)"
   ]
  },
  {
   "cell_type": "code",
   "execution_count": null,
   "metadata": {},
   "outputs": [],
   "source": [
    "p = probabilite(liste_longueur_cable)\n",
    "print(\"Une estimation de la probabilité demandée est\" + p)"
   ]
  },
  {
   "cell_type": "markdown",
   "metadata": {},
   "source": [
    "On remarque qu'on obtient effectivement le comportemant d'une loi normale. Plus on va faire un nombre important de simulations, plus les valeurs vont se resserrer autour de la moyenne, premetttant d'obtenir une approximation de L plus fine (et donc plus précise)."
   ]
  }
 ],
 "metadata": {
  "@webio": {
   "lastCommId": "5ceb69a5bbd14071b254c2439a58ac4b",
   "lastKernelId": "0e923419-c540-42c1-ab5f-d0e05ff4521c"
  },
  "kernelspec": {
   "display_name": "Python 3",
   "language": "python",
   "name": "python3"
  },
  "language_info": {
   "codemirror_mode": {
    "name": "ipython",
    "version": 3
   },
   "file_extension": ".py",
   "mimetype": "text/x-python",
   "name": "python",
   "nbconvert_exporter": "python",
   "pygments_lexer": "ipython3",
   "version": "3.7.2"
  }
 },
 "nbformat": 4,
 "nbformat_minor": 2
}
